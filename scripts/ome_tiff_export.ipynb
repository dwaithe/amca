{
 "cells": [
  {
   "cell_type": "markdown",
   "metadata": {},
   "source": [
    "## Tiff export.\n",
    "### 1) ImageJ Tiff export with ROI within ijmetadata.\n",
    "### 2) OME Tiff export with ROI as OME-XML meta data.\n",
    "\n",
    "ROI stored in OME XML metadata does not visualise well in Fiji/ImageJ, and the ImageJ ROI format is not properly recognised my OMERO. Therefore here we show both methods and give the user the option of which method they use for storing their data.\n"
   ]
  },
  {
   "cell_type": "markdown",
   "metadata": {},
   "source": [
    "### ImageJ Tiff export with ROI as within ijmetadata"
   ]
  },
  {
   "cell_type": "code",
   "execution_count": 7,
   "metadata": {},
   "outputs": [
    {
     "name": "stdout",
     "output_type": "stream",
     "text": [
      "self.slice 6\n",
      "self.slice 5\n"
     ]
    }
   ],
   "source": [
    "#For this we need the libary: https://github.com/dwaithe/ijpython_roi\n",
    "from ijroi.ij_roi import Roi\n",
    "from ijroi.ijpython_encoder import encode_ij_roi, RGB_encoder\n",
    "import numpy as np\n",
    "import tifffile\n",
    "im_stk = np.zeros((10,1,3,300,512)).astype(np.uint16)\n",
    "#TZCYX\n",
    "\n",
    "\n",
    "data = []\n",
    "roi_b = Roi(30, 40, 140, 120, im_stk.shape[3], im_stk.shape[4], 0)\n",
    "roi_b.name = \"Region 1\"\n",
    "roi_b.roiType = 1\n",
    "channel =1\n",
    "sliceZ = 6\n",
    "frame = 1\n",
    "roi_b.setPositionH(channel, sliceZ, frame)\n",
    "roi_b.strokeLineWidth = 3.0\n",
    "roi_b.strokeColor = RGB_encoder(255, 0, 255, 255)\n",
    "\n",
    "data.append(encode_ij_roi(roi_b))\n",
    "\n",
    "roi_b = Roi(130, 140, 140, 120, im_stk.shape[2], im_stk.shape[3], 0)\n",
    "roi_b.name = \"Region 1\"\n",
    "roi_b.roiType = 1\n",
    "channel =2\n",
    "sliceZ = 5\n",
    "frame = 1\n",
    "roi_b.setPositionH(channel, sliceZ, frame)\n",
    "roi_b.strokeLineWidth = 3.0\n",
    "roi_b.strokeColor = RGB_encoder(255, 0, 0, 255)\n",
    "\n",
    "data.append(encode_ij_roi(roi_b))\n",
    "\n",
    "metadata = {'hyperstack': True } \n",
    "metadata['mode'] = 'grayscale'\n",
    "metadata['unit'] = 'um'\n",
    "metadata['spacing'] = 0.5 #This is the z-spacing of the image-stack  (for unit see 'unit').\n",
    "metadata['min']= 0.0\n",
    "metadata['max']= 0.0\n",
    "metadata['Info'] = 'Software: tifffile.py\\n With ROI encoded using functions from https://github.com/dwaithe/ijpython_roi '\n",
    "resolution = (1/0.26,1/0.26) #Expects tuple, ratio pixel to physical unit (for unit see 'unit').\n",
    "\n",
    "\n",
    "tifffile.imsave(\"out5.tiff\", im_stk,resolution=(1/0.26, 1/0.26),shape=im_stk.shape,ijmetadata={'Overlays':data},metadata=metadata,imagej=True)\n"
   ]
  },
  {
   "cell_type": "code",
   "execution_count": 8,
   "metadata": {},
   "outputs": [
    {
     "name": "stdout",
     "output_type": "stream",
     "text": [
      "{'ImageJ': '1.11a', 'images': 30, 'channels': 3, 'frames': 10, 'hyperstack': True, 'mode': 'grayscale', 'loop': False, 'unit': 'um', 'spacing': 0.5, 'min': 0.0, 'max': 0.0, 'info': 'Software: tifffile.py', 'Overlays': [b'Iout\\x00\\xe3\\x01\\x00\\x00(\\x00\\x1e\\x00\\xa0\\x00\\xaa\\x00\\x00\\x00\\x00\\x00\\x00\\x00\\x00\\x00\\x00\\x00\\x00\\x00\\x00\\x00\\x00\\x00\\x00\\x00\\x00\\x00\\x00\\x00\\x00\\xff\\x00\\xff\\xff\\x00\\x00\\x00\\x00\\x00\\x00\\x00\\x00\\x00\\x00\\x00\\x00\\x00\\x00\\x00\\x00\\x00\\x00\\x00@\\x00\\x00\\x00\\x00\\x00\\x00\\x00\\x01\\x00\\x00\\x00\\x06\\x00\\x00\\x00\\x01\\x00\\x00\\x00\\x80\\x00\\x00\\x00\\x08\\x00\\x00\\x00\\x00\\x00\\x00\\x00\\x00\\x00\\x00\\x00\\x00\\x00\\x00\\x00\\x00\\x00\\x00\\x00\\x00\\x00\\x00\\x00\\x00\\x00\\x00\\x00\\x00\\x00\\x00\\x00\\x00\\x00\\x00\\x00\\x00\\x00\\x00\\x00\\x00\\x00R\\x00e\\x00g\\x00i\\x00o\\x00n\\x00 \\x001', b'Iout\\x00\\xe3\\x01\\x00\\x00\\x8c\\x00\\x82\\x01\\x04\\x00\\x85\\x00\\x00\\x00\\x00\\x00\\x00\\x00\\x00\\x00\\x00\\x00\\x00\\x00\\x00\\x00\\x00\\x00\\x00\\x00\\x00\\x00\\x00\\x00\\x00\\xff\\x00\\x00\\xff\\x00\\x00\\x00\\x00\\x00\\x00\\x00\\x00\\x00\\x00\\x00\\x00\\x00\\x00\\x00\\x00\\x00\\x00\\x00@\\x00\\x00\\x00\\x00\\x00\\x00\\x00\\x02\\x00\\x00\\x00\\x05\\x00\\x00\\x00\\x01\\x00\\x00\\x00\\x80\\x00\\x00\\x00\\x08\\x00\\x00\\x00\\x00\\x00\\x00\\x00\\x00\\x00\\x00\\x00\\x00\\x00\\x00\\x00\\x00\\x00\\x00\\x00\\x00\\x00\\x00\\x00\\x00\\x00\\x00\\x00\\x00\\x00\\x00\\x00\\x00\\x00\\x00\\x00\\x00\\x00\\x00\\x00\\x00\\x00R\\x00e\\x00g\\x00i\\x00o\\x00n\\x00 \\x001']}\n"
     ]
    }
   ],
   "source": [
    "#Allows exploration of meta data. Notice the tiff file meta data and ijmetadata are now mixed.\n",
    "with tifffile.TiffFile(\"out5.tiff\") as tif:\n",
    "    imagej_hyperstack = tif.asarray()\n",
    "    imagej_metadata = tif.imagej_metadata\n",
    "print(imagej_metadata)"
   ]
  },
  {
   "cell_type": "markdown",
   "metadata": {},
   "source": [
    "### 2) OME Tiff export with ROI as OME-XML metadata."
   ]
  },
  {
   "cell_type": "code",
   "execution_count": 13,
   "metadata": {},
   "outputs": [],
   "source": [
    "from aicsimageio.vendor import omexml #https://github.com/AllenCellModeling/aicsimageio\n",
    "import xml.etree.ElementTree as ElementTree\n",
    "import sys\n",
    "sys.path.append(\"../src/\")\n",
    "import ome_xml_roi_store as oxrs\n",
    "##This is where I am defining the ROI for this image.\n",
    "_roi = [] \n",
    "#example: _roi.append([ID,X,Y,Height,Width,StrokeColor,Text,TheZ,TheT,TheC])\n",
    "_roi.append([\"Shape:0:0\",50,40,100,200,-65281,\"0005-0126-0224\",8,1,2])\n",
    "_roi.append([\"Shape:1:0\",75,40,100,200,-65281,\"0010-0126-0224\",4,1,2])\n",
    "\n",
    "\n",
    "#This is where I am defined text ROI for this image.\n",
    "_roi_txt = []    \n",
    "#_roi_txt.append([ID,X,Y,FontSize,FontSizeUnit,StrokeColor,Text, TheZ,TheT,TheC])\n",
    "_roi_txt.append([\"Shape:4:0\",50,40,24,\"pixel\",\"-1\",\"c=003, z=003, t=001, i=0009\",3,1,2])\n",
    "#_roi_txt.append([\"Shape:5:0\",50,40,24,\"pixel\",\"-1\",\"c=003, z=003, t=001, i=0009\",13,0,2])\n",
    "#_roi_txt.append([\"Shape:6:0\",50,40,24,\"pixel\",\"-1\",\"c=003, z=003, t=001, i=0009\",13,0,2])\n",
    "\n",
    "\n",
    "#An image.\n",
    "im_stk = np.zeros((3, 10,1,300,512)).astype(np.uint16)\n",
    "#C,Z,T,Y,X\n",
    "num_x = im_stk.shape[4]\n",
    "num_y = im_stk.shape[3]\n",
    "num_z = im_stk.shape[1]\n",
    "num_c = im_stk.shape[0]\n",
    "num_t = im_stk.shape[2]\n",
    "\n",
    "o = omexml.OMEXML() # Many different options for this. Check the \n",
    "o.image().Pixels.channel_count = 3\n",
    "o.image().Pixels.Channel(0).Name = \"Green\"\n",
    "o.image().Pixels.Channel(1).Name = \"Blue\"\n",
    "o.image().Pixels.Channel(2).Name = \"Red\"\n",
    "o.image().Pixels.set_DimensionOrder(\"XYCZT\")\n",
    "o.image().Pixels.set_SizeX(num_x)\n",
    "o.image().Pixels.set_SizeY(num_y)\n",
    "o.image().Pixels.set_SizeZ(num_z)\n",
    "o.image().Pixels.set_SizeT(num_t)\n",
    "o.image().Pixels.set_SizeC(num_c)\n",
    "o.image().Pixels.set_PixelType(\"uint16\")\n",
    "o.image().Pixels.PhysicalSizeX = 0.26\n",
    "o.image().Pixels.PhysicalSizeY = 0.26\n",
    "o.image().Pixels.PhysicalSizeXUnit = \"µm\"\n",
    "o.image().Pixels.PhysicalSizeYUnit = \"µm\"\n",
    "o.image().Pixels.PhysicalSizeZUnit = \"µm\"\n",
    "\n",
    "\n",
    "\n",
    "o.ct = 0\n",
    "\n",
    "oxrs.create_roi(_roi,o)\n",
    "oxrs.create_roi_txt(_roi_txt,o)\n",
    "oxrs.create_ROI_ref(o)\n",
    "\n",
    "o.image().Pixels.populate_TiffData()\n",
    "\n",
    "    \n",
    "\n",
    "meta_to = o.to_xml().encode()\n",
    "tifffile.imsave(\"out75.ome.tiff\", im_stk,shape=im_stk.shape, description=meta_to,bigtiff=True)\n"
   ]
  },
  {
   "cell_type": "code",
   "execution_count": 4,
   "metadata": {},
   "outputs": [
    {
     "name": "stdout",
     "output_type": "stream",
     "text": [
      "<?xml version='1.0' encoding='utf-8'?>\n",
      "<OME xmlns=\"http://www.openmicroscopy.org/Schemas/ome/2013-06\" xmlns:xsi=\"http://www.w3.org/2001/XMLSchema-instance\" UUID=\"urn:uuid:c19074dc-71bf-4301-b4e8-b2b4c548d054\" xsi:schemaLocation=\"http://www.openmicroscopy.org/Schemas/OME/2013-06 http://www.openmicroscopy.org/Schemas/OME/2012-03/ome.xsd\">\n",
      "  <Image ID=\"Image:0\" Name=\"default.png\">\n",
      "    <AcquisitionDate>2020-02-17T11:01:14.594477</AcquisitionDate>\n",
      "    <Pixels BigEndian=\"true\" DimensionOrder=\"XYCZT\" ID=\"Pixels:0\" PhysicalSizeX=\"0.26\" PhysicalSizeY=\"0.26\" SizeC=\"3\" SizeT=\"1\" SizeX=\"512\" SizeY=\"300\" SizeZ=\"10\" Type=\"uint16\">\n",
      "<Channel ID=\"Channel:0:0\" Name=\"Green\" SamplesPerPixel=\"1\">\n",
      "        <LightPath />\n",
      "      </Channel>\n",
      "    <Channel ID=\"700592ac-ad9a-41e2-9f68-d5c99fafbce4\" Name=\"Blue\" SamplesPerPixel=\"1\" /><Channel ID=\"d2a79a9e-310c-4021-8a87-e9c009242c1c\" Name=\"Red\" SamplesPerPixel=\"1\" /><TiffData FirstC=\"0\" FirstT=\"0\" FirstZ=\"0\" IFD=\"0\" PlaneCount=\"1\" /><TiffData FirstC=\"1\" FirstT=\"0\" FirstZ=\"0\" IFD=\"1\" PlaneCount=\"1\" /><TiffData FirstC=\"2\" FirstT=\"0\" FirstZ=\"0\" IFD=\"2\" PlaneCount=\"1\" /><TiffData FirstC=\"0\" FirstT=\"0\" FirstZ=\"1\" IFD=\"3\" PlaneCount=\"1\" /><TiffData FirstC=\"1\" FirstT=\"0\" FirstZ=\"1\" IFD=\"4\" PlaneCount=\"1\" /><TiffData FirstC=\"2\" FirstT=\"0\" FirstZ=\"1\" IFD=\"5\" PlaneCount=\"1\" /><TiffData FirstC=\"0\" FirstT=\"0\" FirstZ=\"2\" IFD=\"6\" PlaneCount=\"1\" /><TiffData FirstC=\"1\" FirstT=\"0\" FirstZ=\"2\" IFD=\"7\" PlaneCount=\"1\" /><TiffData FirstC=\"2\" FirstT=\"0\" FirstZ=\"2\" IFD=\"8\" PlaneCount=\"1\" /><TiffData FirstC=\"0\" FirstT=\"0\" FirstZ=\"3\" IFD=\"9\" PlaneCount=\"1\" /><TiffData FirstC=\"1\" FirstT=\"0\" FirstZ=\"3\" IFD=\"10\" PlaneCount=\"1\" /><TiffData FirstC=\"2\" FirstT=\"0\" FirstZ=\"3\" IFD=\"11\" PlaneCount=\"1\" /><TiffData FirstC=\"0\" FirstT=\"0\" FirstZ=\"4\" IFD=\"12\" PlaneCount=\"1\" /><TiffData FirstC=\"1\" FirstT=\"0\" FirstZ=\"4\" IFD=\"13\" PlaneCount=\"1\" /><TiffData FirstC=\"2\" FirstT=\"0\" FirstZ=\"4\" IFD=\"14\" PlaneCount=\"1\" /><TiffData FirstC=\"0\" FirstT=\"0\" FirstZ=\"5\" IFD=\"15\" PlaneCount=\"1\" /><TiffData FirstC=\"1\" FirstT=\"0\" FirstZ=\"5\" IFD=\"16\" PlaneCount=\"1\" /><TiffData FirstC=\"2\" FirstT=\"0\" FirstZ=\"5\" IFD=\"17\" PlaneCount=\"1\" /><TiffData FirstC=\"0\" FirstT=\"0\" FirstZ=\"6\" IFD=\"18\" PlaneCount=\"1\" /><TiffData FirstC=\"1\" FirstT=\"0\" FirstZ=\"6\" IFD=\"19\" PlaneCount=\"1\" /><TiffData FirstC=\"2\" FirstT=\"0\" FirstZ=\"6\" IFD=\"20\" PlaneCount=\"1\" /><TiffData FirstC=\"0\" FirstT=\"0\" FirstZ=\"7\" IFD=\"21\" PlaneCount=\"1\" /><TiffData FirstC=\"1\" FirstT=\"0\" FirstZ=\"7\" IFD=\"22\" PlaneCount=\"1\" /><TiffData FirstC=\"2\" FirstT=\"0\" FirstZ=\"7\" IFD=\"23\" PlaneCount=\"1\" /><TiffData FirstC=\"0\" FirstT=\"0\" FirstZ=\"8\" IFD=\"24\" PlaneCount=\"1\" /><TiffData FirstC=\"1\" FirstT=\"0\" FirstZ=\"8\" IFD=\"25\" PlaneCount=\"1\" /><TiffData FirstC=\"2\" FirstT=\"0\" FirstZ=\"8\" IFD=\"26\" PlaneCount=\"1\" /><TiffData FirstC=\"0\" FirstT=\"0\" FirstZ=\"9\" IFD=\"27\" PlaneCount=\"1\" /><TiffData FirstC=\"1\" FirstT=\"0\" FirstZ=\"9\" IFD=\"28\" PlaneCount=\"1\" /><TiffData FirstC=\"2\" FirstT=\"0\" FirstZ=\"9\" IFD=\"29\" PlaneCount=\"1\" /></Pixels>\n",
      "  <ROIRef ID=\"ROI:0:0\" /><ROIRef ID=\"ROI:1:0\" /></Image>\n",
      "<ROI ID=\"ROI:0:0\"><Union><Rectangle Height=\"100\" ID=\"Shape:0:0\" StrokeColor=\"-65281\" Text=\"0005-0126-0224\" TheC=\"2\" TheT=\"1\" TheZ=\"8\" Width=\"200\" X=\"50\" Y=\"40\" /></Union></ROI><ROI ID=\"ROI:1:0\"><Union><Rectangle Height=\"100\" ID=\"Shape:1:0\" StrokeColor=\"-65281\" Text=\"0010-0126-0224\" TheC=\"2\" TheT=\"1\" TheZ=\"4\" Width=\"200\" X=\"75\" Y=\"40\" /></Union></ROI></OME>\n"
     ]
    }
   ],
   "source": [
    "from aicsimageio import AICSImage\n",
    "\n",
    "# Get an AICSImage object, which allows to read the OME metadata.\n",
    "img = AICSImage(\"out75.ome.tiff\")\n",
    "print(img.metadata )"
   ]
  },
  {
   "cell_type": "code",
   "execution_count": null,
   "metadata": {},
   "outputs": [],
   "source": []
  },
  {
   "cell_type": "code",
   "execution_count": null,
   "metadata": {},
   "outputs": [],
   "source": [
    "#For this we need the libary: https://github.com/dwaithe/ijpython_roi\n",
    "from ijroi.ij_roi import Roi\n",
    "from ijroi.ijpython_encoder import encode_ij_roi, RGB_encoder\n",
    "import numpy as np\n",
    "import tifffile\n",
    "im_stk = np.zeros((10,1,3,300,512)).astype(np.uint16)\n",
    "#TZCYX\n",
    "\n",
    "\n",
    "data = []\n",
    "roi_b = Roi(30, 40, 140, 120, im_stk.shape[3], im_stk.shape[4], 0)\n",
    "roi_b.name = \"Region 1\"\n",
    "roi_b.roiType = 1\n",
    "channel =1\n",
    "sliceZ = 6\n",
    "frame = 1\n",
    "roi_b.setPositionH(channel, sliceZ, frame)\n",
    "roi_b.strokeLineWidth = 3.0\n",
    "roi_b.strokeColor = RGB_encoder(255, 0, 255, 255)\n",
    "\n",
    "data.append(encode_ij_roi(roi_b))\n",
    "\n",
    "roi_b = Roi(130, 140, 140, 120, im_stk.shape[2], im_stk.shape[3], 0)\n",
    "roi_b.name = \"Region 1\"\n",
    "roi_b.roiType = 1\n",
    "channel =2\n",
    "sliceZ = 5\n",
    "frame = 1\n",
    "roi_b.setPositionH(channel, sliceZ, frame)\n",
    "roi_b.strokeLineWidth = 3.0\n",
    "roi_b.strokeColor = RGB_encoder(255, 0, 0, 255)\n",
    "\n",
    "data.append(encode_ij_roi(roi_b))\n",
    "\n",
    "metadata = {'hyperstack': True } \n",
    "metadata['mode'] = 'grayscale'\n",
    "metadata['unit'] = 'um'\n",
    "metadata['spacing'] = 0.5 #This is the z-spacing of the image-stack  (for unit see 'unit').\n",
    "metadata['min']= 0.0\n",
    "metadata['max']= 0.0\n",
    "metadata['Info'] = 'Software: tifffile.py\\n With ROI encoded using functions from https://github.com/dwaithe/ijpython_roi '\n",
    "resolution = (1/0.26,1/0.26) #Expects tuple, ratio pixel to physical unit (for unit see 'unit').\n",
    "\n",
    "\n",
    "tifffile.imsave(\"out5.tiff\", im_stk,resolution=(1/0.26, 1/0.26),shape=im_stk.shape,ijmetadata={'Overlays':data},metadata=metadata,imagej=True)\n"
   ]
  },
  {
   "cell_type": "code",
   "execution_count": 11,
   "metadata": {},
   "outputs": [],
   "source": [
    "data = np.random.randint(0, 255, (5, 2, 3, 301, 219), 'uint8')\n",
    "with tifffile.TiffWriter('temp.tif', bigtiff=True) as tif:\n",
    "    for i in range(data.shape[0]):\n",
    "        tif.save(data[i], compress=6, photometric='minisblack')"
   ]
  },
  {
   "cell_type": "code",
   "execution_count": null,
   "metadata": {},
   "outputs": [],
   "source": []
  },
  {
   "cell_type": "code",
   "execution_count": null,
   "metadata": {},
   "outputs": [],
   "source": []
  }
 ],
 "metadata": {
  "kernelspec": {
   "display_name": "Python 3",
   "language": "python",
   "name": "python3"
  },
  "language_info": {
   "codemirror_mode": {
    "name": "ipython",
    "version": 3
   },
   "file_extension": ".py",
   "mimetype": "text/x-python",
   "name": "python",
   "nbconvert_exporter": "python",
   "pygments_lexer": "ipython3",
   "version": "3.7.4"
  }
 },
 "nbformat": 4,
 "nbformat_minor": 4
}
