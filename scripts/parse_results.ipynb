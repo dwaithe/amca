{
 "cells": [
  {
   "cell_type": "markdown",
   "metadata": {},
   "source": [
    "### Load in dataset using Pandas\n",
    "Brief preview is shown just below."
   ]
  },
  {
   "cell_type": "code",
   "execution_count": 1,
   "metadata": {},
   "outputs": [
    {
     "data": {
      "text/html": [
       "<div>\n",
       "<style scoped>\n",
       "    .dataframe tbody tr th:only-of-type {\n",
       "        vertical-align: middle;\n",
       "    }\n",
       "\n",
       "    .dataframe tbody tr th {\n",
       "        vertical-align: top;\n",
       "    }\n",
       "\n",
       "    .dataframe thead th {\n",
       "        text-align: right;\n",
       "    }\n",
       "</style>\n",
       "<table border=\"1\" class=\"dataframe\">\n",
       "  <thead>\n",
       "    <tr style=\"text-align: right;\">\n",
       "      <th></th>\n",
       "      <th>date</th>\n",
       "      <th>condition</th>\n",
       "      <th>cfg_file</th>\n",
       "      <th>iter</th>\n",
       "      <th>mAP</th>\n",
       "    </tr>\n",
       "  </thead>\n",
       "  <tbody>\n",
       "    <tr>\n",
       "      <th>0</th>\n",
       "      <td>2020-03-18 13:22:00.046658</td>\n",
       "      <td>cell - cos7 nucleopore</td>\n",
       "      <td>yolov2_dk3AB-classes-1-flip</td>\n",
       "      <td>10000</td>\n",
       "      <td>0.976995</td>\n",
       "    </tr>\n",
       "    <tr>\n",
       "      <th>1</th>\n",
       "      <td>2020-03-18 13:22:03.802713</td>\n",
       "      <td>cell - cos7 nucleopore</td>\n",
       "      <td>yolov2_dk3AB-classes-1-flip</td>\n",
       "      <td>10000</td>\n",
       "      <td>0.972685</td>\n",
       "    </tr>\n",
       "    <tr>\n",
       "      <th>2</th>\n",
       "      <td>2020-03-18 13:22:07.684349</td>\n",
       "      <td>cell - cos7 nucleopore</td>\n",
       "      <td>yolov2_dk3AB-classes-1-flip</td>\n",
       "      <td>10000</td>\n",
       "      <td>0.956481</td>\n",
       "    </tr>\n",
       "    <tr>\n",
       "      <th>3</th>\n",
       "      <td>2020-03-18 13:22:11.314130</td>\n",
       "      <td>cell - cos7 nucleopore</td>\n",
       "      <td>yolov2_dk3AB-classes-1-flip</td>\n",
       "      <td>10000</td>\n",
       "      <td>0.863964</td>\n",
       "    </tr>\n",
       "    <tr>\n",
       "      <th>4</th>\n",
       "      <td>2020-03-18 13:22:14.068141</td>\n",
       "      <td>cell - cos7 nucleopore</td>\n",
       "      <td>yolov2_dk3AB-classes-1-flip</td>\n",
       "      <td>10000</td>\n",
       "      <td>0.131932</td>\n",
       "    </tr>\n",
       "  </tbody>\n",
       "</table>\n",
       "</div>"
      ],
      "text/plain": [
       "                         date               condition  \\\n",
       "0  2020-03-18 13:22:00.046658  cell - cos7 nucleopore   \n",
       "1  2020-03-18 13:22:03.802713  cell - cos7 nucleopore   \n",
       "2  2020-03-18 13:22:07.684349  cell - cos7 nucleopore   \n",
       "3  2020-03-18 13:22:11.314130  cell - cos7 nucleopore   \n",
       "4  2020-03-18 13:22:14.068141  cell - cos7 nucleopore   \n",
       "\n",
       "                      cfg_file   iter       mAP  \n",
       "0  yolov2_dk3AB-classes-1-flip  10000  0.976995  \n",
       "1  yolov2_dk3AB-classes-1-flip  10000  0.972685  \n",
       "2  yolov2_dk3AB-classes-1-flip  10000  0.956481  \n",
       "3  yolov2_dk3AB-classes-1-flip  10000  0.863964  \n",
       "4  yolov2_dk3AB-classes-1-flip  10000  0.131932  "
      ]
     },
     "execution_count": 1,
     "metadata": {},
     "output_type": "execute_result"
    }
   ],
   "source": [
    "import pandas as pd\n",
    "import numpy as np\n",
    "import pyperclip\n",
    "\n",
    "spam = pyperclip.paste()\n",
    "path = '../../results/'\n",
    "#data = pd.read_csv('2020_01_12/global_dk3AB_yolov2_testlog.txt', header = None,sep=\"\\t\")\n",
    "data = pd.read_csv(path+'2020_03_20/_scale_experiment_loglog.txt',comment='#', header = None,sep=\"\\t\")\n",
    "data = data.drop(columns=[2,4,6])\n",
    "\n",
    "data.rename(columns={0:'date',1:'condition',3:'cfg_file',5:'iter',7:'mAP'},inplace=True)\n",
    "data.condition = data.condition.apply(lambda x: x.split('/')[-1].split('_')[0])\n",
    "data.head()"
   ]
  },
  {
   "cell_type": "markdown",
   "metadata": {},
   "source": [
    "### Display attributes\n",
    "Display available configuration and conditions."
   ]
  },
  {
   "cell_type": "code",
   "execution_count": 2,
   "metadata": {},
   "outputs": [
    {
     "name": "stdout",
     "output_type": "stream",
     "text": [
      "cfgs yolov2_dk3AB-classes-1-flip\n",
      "cond cell - cos7 nucleopore\n",
      "cond cell - c127 dapi\n",
      "cond cell - erythroid dapi all\n"
     ]
    }
   ],
   "source": [
    "for i in data.cfg_file.unique():\n",
    "    print('cfgs',i)\n",
    "\n",
    "for i in data.condition.unique():\n",
    "    print('cond',i)"
   ]
  },
  {
   "cell_type": "markdown",
   "metadata": {},
   "source": [
    "### Return your specific configuration and cell-type.\n",
    "This is useful for returning the data from a specific experiment and dataset. Automatically copied to clipboard."
   ]
  },
  {
   "cell_type": "code",
   "execution_count": 8,
   "metadata": {},
   "outputs": [
    {
     "name": "stdout",
     "output_type": "stream",
     "text": [
      "cfg_file: yolov2_dk3AB-classes-1-flip\n",
      "condition: cell - erythroid dapi all\n",
      "--------------------\n",
      "10000 0.9607410778939964\t0.9512358123268424\t0.9469059441553728\t0.7924642888053629\t0.9602887665779336\t0.9541710657531371\t0.9448589604483492\t0.82889562366074\t0.9588129478581092\t0.9558709911286152\t0.9535007539274216\t0.7610606305922059\n"
     ]
    }
   ],
   "source": [
    "cfg_file = 'yolov2_dk3AB-classes-1-flip'\n",
    "condition = 'cell - erythroid dapi all'\n",
    "srkey = data.cfg_file == cfg_file\n",
    "data0 = data[srkey]\n",
    "data1 = data0[data0.condition == condition]\n",
    "print('cfg_file:',cfg_file)\n",
    "print('condition:',condition)\n",
    "print('--------------------')\n",
    "iters = data1['iter'].unique()\n",
    "copy_str = \"\"\n",
    "for iteri in iters:\n",
    "    ob = \"\\t\".join(list(data1[data1.iter == iteri]['mAP'].astype(np.str)))\n",
    "    copy_str +=ob+\"\\n\"\n",
    "    print(iteri,ob)\n",
    "pyperclip.copy(copy_str)"
   ]
  },
  {
   "cell_type": "markdown",
   "metadata": {},
   "source": [
    "### Return your specific configuration and multiple cell-types.\n",
    "Return multiple conditions in order. Data gets copied to Clipboard"
   ]
  },
  {
   "cell_type": "code",
   "execution_count": 4,
   "metadata": {},
   "outputs": [
    {
     "name": "stdout",
     "output_type": "stream",
     "text": [
      "cfg_file: yolov2_dk3AB-classes-1-flip\n",
      "conditions: ['cell - erythroblast dapi', 'cell - fibroblast nucleopore', 'cell - c127 dapi', 'cell - neuroblastoma phalloidin', 'cell - eukaryote dapi', 'cell - erythroid dapi all', 'cell - erythroid dapi', 'cell - hek peroxisome all', 'cell - hek peroxisome']\n",
      "--------------------\n",
      "10000 0.9648402105270126\t0.9652223050948812\t0.9531865810842828\t0.8994011574890008\t0.9636019590457902\t0.950428309970931\t0.9508840888316632\t0.9118972697304202\t0.9592025200537904\t0.9650508269013154\t0.9448676853165996\t0.8695290963205662\t0.9607410778939964\t0.9512358123268424\t0.9469059441553728\t0.7924642888053629\t0.9602887665779336\t0.9541710657531371\t0.9448589604483492\t0.82889562366074\t0.9588129478581092\t0.9558709911286152\t0.9535007539274216\t0.7610606305922059\t0.9769948067948506\t0.9726852013690104\t0.956481094385466\t0.8639644562225532\t0.13193222636751267\t0.8660594048711943\t0.5329961769192328\t0.9463440320272998\t0.9790972396753266\t0.9784840227282064\t0.9710028353845548\t0.8811309699148194\t0.16683753927297906\t0.8951728631048579\t0.6044151997188592\t0.9360798287032766\t0.9774725722982992\t0.9789655072160921\t0.9658815860670802\t0.9034304872775474\t0.1360874010087671\t0.9015963321023336\t0.6088604380677851\t0.9325595810482404\n"
     ]
    }
   ],
   "source": [
    "cfg_file = 'yolov2_dk3AB-classes-1-flip'\n",
    "\n",
    "#Paste all the categories to the clipboard using pandas.\n",
    "srkey = data.cfg_file == cfg_file\n",
    "data2 = data[srkey]\n",
    "sorter = ['cell - erythroblast dapi',\n",
    "'cell - fibroblast nucleopore',\n",
    "'cell - c127 dapi',\n",
    "'cell - neuroblastoma phalloidin',\n",
    "'cell - eukaryote dapi',\n",
    "'cell - erythroid dapi all',\n",
    "'cell - erythroid dapi',\n",
    "'cell - hek peroxisome all',\n",
    "'cell - hek peroxisome']\n",
    "\n",
    "data2.condition = data2.condition.astype('category').cat.set_categories(sorter, inplace=False)\n",
    "data2 = data2.sort_values([\"condition\",'iter']) \n",
    "print('cfg_file:',cfg_file)\n",
    "print('conditions:',sorter)\n",
    "print('--------------------')\n",
    "iters = data2['iter'].unique()\n",
    "copy_str = \"\"\n",
    "for iteri in iters:\n",
    "    ob = \"\\t\".join(list(data2[data2.iter == iteri]['mAP'].astype(np.str)))\n",
    "    copy_str +=ob+\"\\n\"\n",
    "    print(iteri,ob)\n",
    "pyperclip.copy(copy_str)"
   ]
  },
  {
   "cell_type": "code",
   "execution_count": null,
   "metadata": {},
   "outputs": [],
   "source": []
  },
  {
   "cell_type": "code",
   "execution_count": null,
   "metadata": {},
   "outputs": [],
   "source": []
  }
 ],
 "metadata": {
  "kernelspec": {
   "display_name": "Python 3",
   "language": "python",
   "name": "python3"
  },
  "language_info": {
   "codemirror_mode": {
    "name": "ipython",
    "version": 3
   },
   "file_extension": ".py",
   "mimetype": "text/x-python",
   "name": "python",
   "nbconvert_exporter": "python",
   "pygments_lexer": "ipython3",
   "version": "3.7.4"
  }
 },
 "nbformat": 4,
 "nbformat_minor": 4
}
