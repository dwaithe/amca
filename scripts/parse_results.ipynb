{
 "cells": [
  {
   "cell_type": "markdown",
   "metadata": {},
   "source": [
    "### Load in dataset using Pandas\n",
    "Brief preview is shown just below."
   ]
  },
  {
   "cell_type": "code",
   "execution_count": 4,
   "metadata": {},
   "outputs": [
    {
     "data": {
      "text/html": [
       "<div>\n",
       "<style scoped>\n",
       "    .dataframe tbody tr th:only-of-type {\n",
       "        vertical-align: middle;\n",
       "    }\n",
       "\n",
       "    .dataframe tbody tr th {\n",
       "        vertical-align: top;\n",
       "    }\n",
       "\n",
       "    .dataframe thead th {\n",
       "        text-align: right;\n",
       "    }\n",
       "</style>\n",
       "<table border=\"1\" class=\"dataframe\">\n",
       "  <thead>\n",
       "    <tr style=\"text-align: right;\">\n",
       "      <th></th>\n",
       "      <th>date</th>\n",
       "      <th>condition</th>\n",
       "      <th>cfg_file</th>\n",
       "      <th>iter</th>\n",
       "      <th>mAP</th>\n",
       "    </tr>\n",
       "  </thead>\n",
       "  <tbody>\n",
       "    <tr>\n",
       "      <th>0</th>\n",
       "      <td>2020-02-28 14:00:19.493008</td>\n",
       "      <td>cell - neuroblastoma phalloidin</td>\n",
       "      <td>yolov3_dk3AB-classes-6-flip</td>\n",
       "      <td>1000</td>\n",
       "      <td>0.785378</td>\n",
       "    </tr>\n",
       "    <tr>\n",
       "      <th>1</th>\n",
       "      <td>2020-02-28 14:00:19.493142</td>\n",
       "      <td>cell - erythroblast dapi</td>\n",
       "      <td>yolov3_dk3AB-classes-6-flip</td>\n",
       "      <td>1000</td>\n",
       "      <td>0.827213</td>\n",
       "    </tr>\n",
       "    <tr>\n",
       "      <th>2</th>\n",
       "      <td>2020-02-28 14:00:19.493229</td>\n",
       "      <td>cell - c127 dapi</td>\n",
       "      <td>yolov3_dk3AB-classes-6-flip</td>\n",
       "      <td>1000</td>\n",
       "      <td>0.957674</td>\n",
       "    </tr>\n",
       "    <tr>\n",
       "      <th>3</th>\n",
       "      <td>2020-02-28 14:00:19.493320</td>\n",
       "      <td>cell - eukaryote dapi</td>\n",
       "      <td>yolov3_dk3AB-classes-6-flip</td>\n",
       "      <td>1000</td>\n",
       "      <td>0.949705</td>\n",
       "    </tr>\n",
       "    <tr>\n",
       "      <th>4</th>\n",
       "      <td>2020-02-28 14:00:19.493401</td>\n",
       "      <td>cell - fibroblast nucleopore</td>\n",
       "      <td>yolov3_dk3AB-classes-6-flip</td>\n",
       "      <td>1000</td>\n",
       "      <td>0.850910</td>\n",
       "    </tr>\n",
       "  </tbody>\n",
       "</table>\n",
       "</div>"
      ],
      "text/plain": [
       "                         date                        condition  \\\n",
       "0  2020-02-28 14:00:19.493008  cell - neuroblastoma phalloidin   \n",
       "1  2020-02-28 14:00:19.493142         cell - erythroblast dapi   \n",
       "2  2020-02-28 14:00:19.493229                 cell - c127 dapi   \n",
       "3  2020-02-28 14:00:19.493320            cell - eukaryote dapi   \n",
       "4  2020-02-28 14:00:19.493401     cell - fibroblast nucleopore   \n",
       "\n",
       "                      cfg_file  iter       mAP  \n",
       "0  yolov3_dk3AB-classes-6-flip  1000  0.785378  \n",
       "1  yolov3_dk3AB-classes-6-flip  1000  0.827213  \n",
       "2  yolov3_dk3AB-classes-6-flip  1000  0.957674  \n",
       "3  yolov3_dk3AB-classes-6-flip  1000  0.949705  \n",
       "4  yolov3_dk3AB-classes-6-flip  1000  0.850910  "
      ]
     },
     "execution_count": 4,
     "metadata": {},
     "output_type": "execute_result"
    }
   ],
   "source": [
    "import pandas as pd\n",
    "import numpy as np\n",
    "import pyperclip\n",
    "\n",
    "spam = pyperclip.paste()\n",
    "path = '../../results/'\n",
    "#data = pd.read_csv('2020_01_12/global_dk3AB_yolov2_testlog.txt', header = None,sep=\"\\t\")\n",
    "data = pd.read_csv(path+'2020_02_26/_global_dk3AB_yolov3_flip_loglog.txt',comment='#', header = None,sep=\"\\t\")\n",
    "data = data.drop(columns=[2,4,6])\n",
    "\n",
    "data.rename(columns={0:'date',1:'condition',3:'cfg_file',5:'iter',7:'mAP'},inplace=True)\n",
    "data.condition = data.condition.apply(lambda x: x.split('/')[-1].split('_')[0])\n",
    "data.head()"
   ]
  },
  {
   "cell_type": "markdown",
   "metadata": {},
   "source": [
    "### Display attributes\n",
    "Display available configuration and conditions."
   ]
  },
  {
   "cell_type": "code",
   "execution_count": 2,
   "metadata": {},
   "outputs": [
    {
     "name": "stdout",
     "output_type": "stream",
     "text": [
      "cfgs yolov3_dk3AB-classes-6-no-flip\n",
      "cond cell - neuroblastoma phalloidin\n",
      "cond cell - erythroblast dapi\n",
      "cond cell - c127 dapi\n",
      "cond cell - eukaryote dapi\n",
      "cond cell - fibroblast nucleopore\n",
      "cond cell - hek peroxisome all\n"
     ]
    }
   ],
   "source": [
    "for i in data.cfg_file.unique():\n",
    "    print('cfgs',i)\n",
    "\n",
    "for i in data.condition.unique():\n",
    "    print('cond',i)"
   ]
  },
  {
   "cell_type": "markdown",
   "metadata": {},
   "source": [
    "### Return your specific configuration and cell-type.\n",
    "This is useful for returning the data from a specific experiment and dataset. Automatically copied to clipboard."
   ]
  },
  {
   "cell_type": "code",
   "execution_count": 13,
   "metadata": {},
   "outputs": [
    {
     "name": "stdout",
     "output_type": "stream",
     "text": [
      "cfg_file: yolov2_dk3AB-classes-1-flip\n",
      "condition: cell - fibroblast nucleopore\n",
      "--------------------\n",
      "1000 0.9742298212821464\t0.9108508390926252\t0.9684845785496564\n",
      "2000 0.9923321684941792\t0.9836118168150016\t0.9882945078145609\n",
      "3000 0.9877739324797136\t0.9824275875216564\t0.9837844481035206\n",
      "4000 0.9856433693485109\t0.9818535050454906\t0.9961936848625571\n",
      "5000 0.9955527034848856\t0.9813176094332128\t0.9951320002099406\n",
      "6000 0.9954354811432438\t0.981680484369454\t0.9947932468224068\n",
      "7000 0.9953699198380374\t0.9820154064571404\t0.9955546602202524\n",
      "8000 0.9954085373030168\t0.9809420183343932\t0.9956947162426614\n",
      "9000 0.9950650417892568\t0.9809447633142152\t0.994847085058936\n",
      "10000 0.9960498712776841\t0.9817265804806864\t0.9939074874340492\n"
     ]
    }
   ],
   "source": [
    "cfg_file = 'yolov2_dk3AB-classes-1-flip'\n",
    "condition = 'cell - fibroblast nucleopore'\n",
    "srkey = data.cfg_file == cfg_file\n",
    "data0 = data[srkey]\n",
    "data1 = data0[data0.condition == condition]\n",
    "print('cfg_file:',cfg_file)\n",
    "print('condition:',condition)\n",
    "print('--------------------')\n",
    "iters = data1['iter'].unique()\n",
    "copy_str = \"\"\n",
    "for iteri in iters:\n",
    "    ob = \"\\t\".join(list(data1[data1.iter == iteri]['mAP'].astype(np.str)))\n",
    "    copy_str +=ob+\"\\n\"\n",
    "    print(iteri,ob)\n",
    "pyperclip.copy(copy_str)"
   ]
  },
  {
   "cell_type": "markdown",
   "metadata": {},
   "source": [
    "### Return your specific configuration and multiple cell-types.\n",
    "Return multiple conditions in order. Data gets copied to Clipboard"
   ]
  },
  {
   "cell_type": "code",
   "execution_count": 5,
   "metadata": {},
   "outputs": [
    {
     "name": "stdout",
     "output_type": "stream",
     "text": [
      "cfg_file: yolov3_dk3AB-classes-6-flip\n",
      "conditions: ['cell - erythroblast dapi', 'cell - fibroblast nucleopore', 'cell - c127 dapi', 'cell - neuroblastoma phalloidin', 'cell - eukaryote dapi', 'cell - hek peroxisome all']\n",
      "--------------------\n",
      "1000 0.8272131152840515\t0.8579208671883376\t0.8066368143546132\t0.8509095155830921\t0.820876045145819\t0.8499194384940598\t0.9576744860483176\t0.9768720912547582\t0.9720360559886624\t0.7853776694546286\t0.7509419575891018\t0.7901904006060165\t0.9497046646497322\t0.9579981728009463\t0.8427962887889346\t0.3011452526585975\t0.4847460239820732\t0.4727751219976714\n",
      "2000 0.8463095402278875\t0.9269787667106416\t0.9137497942933264\t0.964799387150132\t0.9571053804079941\t0.9762017433148484\t0.9830740512008032\t0.9896330236498834\t0.9835322158957556\t0.8458712119169843\t0.866156094471221\t0.844388712680897\t0.9732200752814948\t0.9798078159326578\t0.9845411484226076\t0.5220473242839521\t0.5541104551041023\t0.6268547121586845\n",
      "3000 0.9059298675882212\t0.9154431381693806\t0.894653525788772\t0.970472784115926\t0.9879019825937634\t0.9817329318866139\t0.9869930335158241\t0.9922201674819616\t0.9835458874675738\t0.8808307087625218\t0.8697231137818252\t0.8737304617663573\t0.9664727375417891\t0.9847896743495924\t0.946880444417829\t0.5742533773940955\t0.6499853494560095\t0.6067406176435168\n",
      "4000 0.8376334060647361\t0.914559327137276\t0.9049616140995076\t0.9713278803773656\t0.9409121249092004\t0.9777148067949588\t0.9865034946348488\t0.9866099158928642\t0.9826732007773448\t0.8801492804426014\t0.8735843075322647\t0.8732409334265768\t0.8109325998226047\t0.9645317452884274\t0.962619875918108\t0.4671559769737406\t0.5754904776685821\t0.633590035350051\n",
      "5000 0.927274781372706\t0.9429186529419664\t0.9368784632964982\t0.9401601390249608\t0.9206191186854079\t0.9781133679309304\t0.9790146616529204\t0.9768419605316724\t0.9859560678154746\t0.858013081879462\t0.8674389434924081\t0.8774449181577149\t0.9734846717002306\t0.9858542977174396\t0.9790611080480098\t0.5693934907194669\t0.5332812786776108\t0.6204930996977397\n",
      "6000 0.9477888981936641\t0.9367573670560516\t0.9485828147036086\t0.9714896902902456\t0.981671085454063\t0.9815318735595852\t0.9878803472123536\t0.9784290783299512\t0.9861036346947925\t0.8845179108116347\t0.8859378000270169\t0.8860289228405503\t0.9753248276801528\t0.973637787830372\t0.98102359090575\t0.5452078558395352\t0.5681267454253635\t0.5832352934001284\n",
      "7000 0.9414182576840378\t0.9350564384157548\t0.9285546865801476\t0.9863748932445964\t0.9780757615679679\t0.993785571175534\t0.989475411317404\t0.986764483074557\t0.982656277197886\t0.8791538766825145\t0.8867739080362738\t0.8852420009585373\t0.975049266236143\t0.946608976986366\t0.9782917321771754\t0.5699159098776656\t0.49799145717966703\t0.5733219253787905\n",
      "8000 0.9205339941249902\t0.9082680774926436\t0.8743785674323696\t0.9949101743622292\t0.9571266522907916\t0.9774555364264196\t0.9866550646578977\t0.9890479191250384\t0.992397823916356\t0.8758034315203302\t0.8867242400319871\t0.8882677167793528\t0.9515932571339925\t0.974132624691872\t0.933841103088214\t0.5925345205267727\t0.5248624998385011\t0.5695314567391634\n",
      "9000 0.932245526218446\t0.8826112560458566\t0.909725203436414\t0.9680263206717508\t0.9347985975668912\t0.9674277978656078\t0.9881027162168928\t0.9641800619631288\t0.985736410351126\t0.8731083331243785\t0.8870458293073533\t0.8819539376528873\t0.9737830389768368\t0.9664620752410866\t0.9532176481770074\t0.5702800625477099\t0.5367350826131683\t0.5162548804138378\n",
      "10000 0.9380892571028108\t0.9453151150802096\t0.9223847201576424\t0.9898208465170594\t0.9439010686084408\t0.9916143070325169\t0.9829550130105652\t0.977224954611984\t0.984998759952732\t0.8853319345134271\t0.8821564964032491\t0.8864445847179134\t0.966972404103788\t0.9824371636143209\t0.9571224508539272\t0.605203583162695\t0.590071628078078\t0.5989204122121594\n"
     ]
    }
   ],
   "source": [
    "cfg_file = 'yolov3_dk3AB-classes-6-flip'\n",
    "\n",
    "#Paste all the categories to the clipboard using pandas.\n",
    "srkey = data.cfg_file == cfg_file\n",
    "data2 = data[srkey]\n",
    "sorter = ['cell - erythroblast dapi',\n",
    "'cell - fibroblast nucleopore',\n",
    "'cell - c127 dapi',\n",
    "'cell - neuroblastoma phalloidin',\n",
    "'cell - eukaryote dapi',\n",
    "'cell - hek peroxisome all']\n",
    "\n",
    "data2.condition = data2.condition.astype('category').cat.set_categories(sorter, inplace=False)\n",
    "data2 = data2.sort_values([\"condition\",'iter']) \n",
    "print('cfg_file:',cfg_file)\n",
    "print('conditions:',sorter)\n",
    "print('--------------------')\n",
    "iters = data2['iter'].unique()\n",
    "copy_str = \"\"\n",
    "for iteri in iters:\n",
    "    ob = \"\\t\".join(list(data2[data2.iter == iteri]['mAP'].astype(np.str)))\n",
    "    copy_str +=ob+\"\\n\"\n",
    "    print(iteri,ob)\n",
    "pyperclip.copy(copy_str)"
   ]
  },
  {
   "cell_type": "code",
   "execution_count": null,
   "metadata": {},
   "outputs": [],
   "source": []
  },
  {
   "cell_type": "code",
   "execution_count": null,
   "metadata": {},
   "outputs": [],
   "source": []
  }
 ],
 "metadata": {
  "kernelspec": {
   "display_name": "Python 3",
   "language": "python",
   "name": "python3"
  },
  "language_info": {
   "codemirror_mode": {
    "name": "ipython",
    "version": 3
   },
   "file_extension": ".py",
   "mimetype": "text/x-python",
   "name": "python",
   "nbconvert_exporter": "python",
   "pygments_lexer": "ipython3",
   "version": "3.7.4"
  }
 },
 "nbformat": 4,
 "nbformat_minor": 4
}
