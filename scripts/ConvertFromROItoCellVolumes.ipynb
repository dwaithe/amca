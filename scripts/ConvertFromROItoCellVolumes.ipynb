{
 "cells": [
  {
   "cell_type": "markdown",
   "metadata": {},
   "source": [
    "\n",
    "### This notebook is used to convert ROI on single slices of the tiff-stacks into contigous detections."
   ]
  },
  {
   "cell_type": "code",
   "execution_count": 1,
   "metadata": {},
   "outputs": [
    {
     "name": "stdout",
     "output_type": "stream",
     "text": [
      "Populating the interactive namespace from numpy and matplotlib\n"
     ]
    },
    {
     "name": "stderr",
     "output_type": "stream",
     "text": [
      "/Library/Frameworks/Python.framework/Versions/3.7/lib/python3.7/site-packages/sklearn/utils/linear_assignment_.py:22: FutureWarning: The linear_assignment_ module is deprecated in 0.21 and will be removed from 0.23. Use scipy.optimize.linear_sum_assignment instead.\n",
      "  FutureWarning)\n"
     ]
    }
   ],
   "source": [
    "%pylab inline\n",
    "import numpy as np\n",
    "import sys\n",
    "sys.path.append('../src')\n",
    "import det_sort as ds\n",
    "from convert_ROI_to_cell_volumes import *\n",
    "from ijroi.ij_roi import Roi\n",
    "from ijroi.ijpython_encoder import encode_ij_roi,RGB_encoder\n",
    "from ijroi.ijpython_decoder import decode_ij_roi\n",
    "from find_maxima import find_maxima\n",
    "import tifffile\n",
    "import glob\n",
    "import skimage.io as io\n",
    "\n",
    "from scipy import ndimage\n",
    "import pyperclip\n",
    "\n",
    "def find_local_maxima_np(img_data):\n",
    "    #This is the numpy/scipy version of the above function (find local maxima).\n",
    "    #Its a bit faster, and more compact code.\n",
    "    \n",
    "    #Filter data with maximum filter to find maximum filter response in each neighbourhood\n",
    "    max_out = ndimage.filters.maximum_filter(img_data,size=3)\n",
    "    #Find local maxima.\n",
    "    local_max = np.zeros((img_data.shape))\n",
    "    local_max[max_out == img_data] = 1\n",
    "    local_max[img_data == np.min(img_data)] = 0\n",
    "    return local_max.astype(np.bool)\n",
    "\n",
    "def return_maxima(img_vol,ntol):\n",
    "    cell_shape = img_vol.__len__()\n",
    "    img = img_vol[cell_shape//2]\n",
    "    \n",
    "    find_local_maxima_np(img)\n",
    "    \n",
    "    img_data = np.array(img).astype(np.float64)\n",
    "    #Finds the local maxima using maximum filter.\n",
    "    local_max = find_local_maxima_np(img_data)\n",
    "    y,x,out = find_maxima(img_data,local_max.astype(np.uint8),ntol)\n",
    "    return y,x\n"
   ]
  },
  {
   "cell_type": "markdown",
   "metadata": {},
   "source": [
    "### Conversion of ROI to contiguous cell regions"
   ]
  },
  {
   "cell_type": "code",
   "execution_count": 2,
   "metadata": {},
   "outputs": [],
   "source": [
    "###Parameters.\n",
    "\n",
    "img_width = 512 #pixels\n",
    "img_height = 512 #pixels\n",
    "border_offset = 12 #If regions end or start within this they are included.\n",
    "scale = 0.26 #um/pixel\n",
    "zspacing = 0.50 #physical distance (um) between z-slices.\n",
    "filepaths = []\n",
    "outpaths = []\n",
    "\n",
    "\n",
    "#filepaths.append(\"/Users/dominicwaithe/Documents/collaborators/SwiftLonnie/screens/acquisitions/0002_2020_11_20_high/\")\n",
    "#filepaths.append(\"/Users/dominicwaithe/Documents/collaborators/SwiftLonnie/screens/acquisitions/0003_2020_11_23_low/\")\n",
    "#filepaths.append(\"/Users/dominicwaithe/Documents/collaborators/SwiftLonnie/screens/acquisitions/0004_2020_11_23_high/\")\n",
    "#filepaths.append(\"/Users/dominicwaithe/Documents/collaborators/SwiftLonnie/screens/acquisitions/0005_2020_11_27_low/\")\n",
    "#filepaths.append(\"/Users/dominicwaithe/Documents/collaborators/SwiftLonnie/screens/acquisitions/0006_2020_11_27_high/\")\n",
    "#filepaths.append(\"/Users/dominicwaithe/Documents/collaborators/SwiftLonnie/screens/acquisitions/0007_2020_11_30_low/\")\n",
    "#filepaths.append(\"/Users/dominicwaithe/Documents/collaborators/SwiftLonnie/screens/acquisitions/0008_2020_11_30_high/\")\n",
    "#filepaths.append(\"/Users/dominicwaithe/Documents/collaborators/SwiftLonnie/screens/acquisitions/0009_2020_12_04_low/\")\n",
    "#filepaths.append(\"/Users/dominicwaithe/Documents/collaborators/SwiftLonnie/screens/acquisitions/0010_2020_12_04_high/\")\n",
    "#filepaths.append(\"/Users/dominicwaithe/Documents/collaborators/SwiftLonnie/screens/acquisitions/0011_2020_12_07_low/\")\n",
    "#filepaths.append(\"/Users/dominicwaithe/Documents/collaborators/SwiftLonnie/screens/acquisitions/0012_2020_12_07_high/\")\n",
    "\n",
    "#filepaths.append(\"/Users/dominicwaithe/Documents/collaborators/SwiftLonnie/screens/acquisitions/0013_2020_12_12_low/\")\n",
    "#filepaths.append(\"/Users/dominicwaithe/Documents/collaborators/SwiftLonnie/screens/acquisitions/0014_2020_12_12_high/\")\n",
    "#filepaths.append(\"/Users/dominicwaithe/Documents/collaborators/SwiftLonnie/screens/acquisitions/0015_2020_12_14_low/\")\n",
    "#filepaths.append(\"/Users/dominicwaithe/Documents/collaborators/SwiftLonnie/screens/acquisitions/0016_2020_12_14_high/\")\n",
    "filepaths.append(\"/Users/dominicwaithe/Desktop/relabel05/\")\n",
    "filepaths.append(\"/Users/dominicwaithe/Desktop/relabel06/\")\n",
    "filepaths.append(\"/Users/dominicwaithe/Desktop/relabel07/\")\n",
    "filepaths.append(\"/Users/dominicwaithe/Desktop/relabel08/\")\n",
    "filepaths.append(\"/Users/dominicwaithe/Desktop/relabel09/\")\n",
    "filepaths.append(\"/Users/dominicwaithe/Desktop/relabel10/\")\n",
    "filepaths.append(\"/Users/dominicwaithe/Desktop/relabel11/\")\n",
    "filepaths.append(\"/Users/dominicwaithe/Desktop/relabel12/\")\n",
    "filepaths.append(\"/Users/dominicwaithe/Desktop/relabel13/\")\n",
    "filepaths.append(\"/Users/dominicwaithe/Desktop/relabel14/\")\n",
    "filepaths.append(\"/Users/dominicwaithe/Desktop/relabel15/\")\n",
    "filepaths.append(\"/Users/dominicwaithe/Desktop/relabel16/\")\n",
    "\n",
    "#outpaths.append(\"/Users/dominicwaithe/Desktop/out02/\")\n",
    "#outpaths.append(\"/Users/dominicwaithe/Desktop/out03/\")\n",
    "#outpaths.append(\"/Users/dominicwaithe/Desktop/out04/\")\n",
    "#outpaths.append(\"/Users/dominicwaithe/Desktop/out05/\")\n",
    "#outpaths.append(\"/Users/dominicwaithe/Desktop/out06/\")\n",
    "#outpaths.append(\"/Users/dominicwaithe/Desktop/out07/\")\n",
    "#outpaths.append(\"/Users/dominicwaithe/Desktop/out08/\")\n",
    "#outpaths.append(\"/Users/dominicwaithe/Desktop/out09/\")\n",
    "#outpaths.append(\"/Users/dominicwaithe/Desktop/out10/\")\n",
    "#outpaths.append(\"/Users/dominicwaithe/Desktop/out11/\")\n",
    "#outpaths.append(\"/Users/dominicwaithe/Desktop/out12/\")\n",
    "#outpaths.append(\"/Users/dominicwaithe/Desktop/out13/\")\n",
    "#outpaths.append(\"/Users/dominicwaithe/Desktop/out14/\")\n",
    "#outpaths.append(\"/Users/dominicwaithe/Desktop/out15/\")\n",
    "#outpaths.append(\"/Users/dominicwaithe/Desktop/out16/\")\n",
    "outpaths.append(\"/Users/dominicwaithe/Desktop/relabel05out/\")\n",
    "outpaths.append(\"/Users/dominicwaithe/Desktop/relabel06out/\")\n",
    "outpaths.append(\"/Users/dominicwaithe/Desktop/relabel07out/\")\n",
    "outpaths.append(\"/Users/dominicwaithe/Desktop/relabel08out/\")\n",
    "outpaths.append(\"/Users/dominicwaithe/Desktop/relabel09out/\")\n",
    "outpaths.append(\"/Users/dominicwaithe/Desktop/relabel10out/\")\n",
    "outpaths.append(\"/Users/dominicwaithe/Desktop/relabel11out/\")\n",
    "outpaths.append(\"/Users/dominicwaithe/Desktop/relabel12out/\")\n",
    "outpaths.append(\"/Users/dominicwaithe/Desktop/relabel13out/\")\n",
    "outpaths.append(\"/Users/dominicwaithe/Desktop/relabel14out/\")\n",
    "outpaths.append(\"/Users/dominicwaithe/Desktop/relabel15out/\")\n",
    "outpaths.append(\"/Users/dominicwaithe/Desktop/relabel16out/\")\n",
    "\n",
    "\n",
    "\n",
    "                      "
   ]
  },
  {
   "cell_type": "code",
   "execution_count": 3,
   "metadata": {},
   "outputs": [
    {
     "name": "stderr",
     "output_type": "stream",
     "text": [
      "/Library/Frameworks/Python.framework/Versions/3.7/lib/python3.7/site-packages/sklearn/utils/linear_assignment_.py:128: FutureWarning: The linear_assignment function is deprecated in 0.21 and will be removed from 0.23. Use scipy.optimize.linear_sum_assignment instead.\n",
      "  FutureWarning)\n"
     ]
    }
   ],
   "source": [
    "for filepath, outpath in zip(filepaths,outpaths):\n",
    "    convObj = ConvertROItoCellVolumes(img_width, img_height, border_offset, scale, zspacing, filepath, outpath)\n",
    "    convObj.append_new_regions(outpath, extend_roi=False)"
   ]
  },
  {
   "cell_type": "markdown",
   "metadata": {},
   "source": [
    "### Rudimentary Analysis Example\n",
    "Measuring mean intensity of cell volumes."
   ]
  },
  {
   "cell_type": "code",
   "execution_count": 3,
   "metadata": {},
   "outputs": [
    {
     "name": "stdout",
     "output_type": "stream",
     "text": [
      "no Overlays present in file.\n",
      "no Overlays present in file.\n",
      "no Overlays present in file.\n",
      "no Overlays present in file.\n",
      "no Overlays present in file.\n",
      "no Overlays present in file.\n",
      "no Overlays present in file.\n",
      "no Overlays present in file.\n",
      "no Overlays present in file.\n",
      "no Overlays present in file.\n",
      "no Overlays present in file.\n",
      "no Overlays present in file.\n",
      "no Overlays present in file.\n",
      "no Overlays present in file.\n",
      "no Overlays present in file.\n",
      "no Overlays present in file.\n",
      "no Overlays present in file.\n",
      "no Overlays present in file.\n",
      "no Overlays present in file.\n",
      "no Overlays present in file.\n",
      "no Overlays present in file.\n",
      "no Overlays present in file.\n",
      "no Overlays present in file.\n",
      "no Overlays present in file.\n",
      "no Overlays present in file.\n",
      "no Overlays present in file.\n",
      "no Overlays present in file.\n",
      "no Overlays present in file.\n",
      "no Overlays present in file.\n",
      "no Overlays present in file.\n",
      "no Overlays present in file.\n",
      "no Overlays present in file.\n",
      "no Overlays present in file.\n",
      "no Overlays present in file.\n",
      "no Overlays present in file.\n",
      "no Overlays present in file.\n",
      "no Overlays present in file.\n",
      "no Overlays present in file.\n",
      "no Overlays present in file.\n",
      "no Overlays present in file.\n",
      "no Overlays present in file.\n",
      "no Overlays present in file.\n",
      "no Overlays present in file.\n",
      "no Overlays present in file.\n",
      "no Overlays present in file.\n",
      "no Overlays present in file.\n",
      "no Overlays present in file.\n",
      "no Overlays present in file.\n",
      "no Overlays present in file.\n",
      "no Overlays present in file.\n",
      "no Overlays present in file.\n",
      "no Overlays present in file.\n",
      "no Overlays present in file.\n",
      "no Overlays present in file.\n",
      "no Overlays present in file.\n",
      "no Overlays present in file.\n",
      "no Overlays present in file.\n",
      "no Overlays present in file.\n",
      "no Overlays present in file.\n",
      "no Overlays present in file.\n",
      "no Overlays present in file.\n",
      "no Overlays present in file.\n",
      "no Overlays present in file.\n",
      "no Overlays present in file.\n",
      "no Overlays present in file.\n",
      "no Overlays present in file.\n",
      "no Overlays present in file.\n",
      "no Overlays present in file.\n",
      "no Overlays present in file.\n",
      "no Overlays present in file.\n",
      "no Overlays present in file.\n",
      "no Overlays present in file.\n",
      "no Overlays present in file.\n",
      "no Overlays present in file.\n",
      "no Overlays present in file.\n",
      "no Overlays present in file.\n",
      "no Overlays present in file.\n",
      "no Overlays present in file.\n",
      "no Overlays present in file.\n",
      "no Overlays present in file.\n",
      "no Overlays present in file.\n",
      "no Overlays present in file.\n",
      "no Overlays present in file.\n",
      "no Overlays present in file.\n",
      "no Overlays present in file.\n",
      "no Overlays present in file.\n",
      "no Overlays present in file.\n",
      "no Overlays present in file.\n",
      "no Overlays present in file.\n",
      "no Overlays present in file.\n",
      "no Overlays present in file.\n",
      "no Overlays present in file.\n",
      "no Overlays present in file.\n",
      "no Overlays present in file.\n",
      "no Overlays present in file.\n",
      "no Overlays present in file.\n",
      "no Overlays present in file.\n",
      "no Overlays present in file.\n",
      "no Overlays present in file.\n",
      "no Overlays present in file.\n",
      "no Overlays present in file.\n",
      "no Overlays present in file.\n",
      "no Overlays present in file.\n",
      "no Overlays present in file.\n",
      "no Overlays present in file.\n",
      "no Overlays present in file.\n",
      "no Overlays present in file.\n",
      "no Overlays present in file.\n",
      "no Overlays present in file.\n",
      "no Overlays present in file.\n",
      "no Overlays present in file.\n",
      "no Overlays present in file.\n",
      "no Overlays present in file.\n",
      "no Overlays present in file.\n",
      "no Overlays present in file.\n",
      "no Overlays present in file.\n",
      "no Overlays present in file.\n",
      "no Overlays present in file.\n",
      "no Overlays present in file.\n",
      "no Overlays present in file.\n",
      "no Overlays present in file.\n",
      "no Overlays present in file.\n",
      "no Overlays present in file.\n",
      "no Overlays present in file.\n",
      "no Overlays present in file.\n",
      "no Overlays present in file.\n",
      "no Overlays present in file.\n",
      "no Overlays present in file.\n",
      "no Overlays present in file.\n",
      "no Overlays present in file.\n",
      "no Overlays present in file.\n",
      "no Overlays present in file.\n",
      "no Overlays present in file.\n",
      "no Overlays present in file.\n",
      "no Overlays present in file.\n",
      "no Overlays present in file.\n",
      "no Overlays present in file.\n",
      "no Overlays present in file.\n",
      "no Overlays present in file.\n",
      "no Overlays present in file.\n",
      "no Overlays present in file.\n",
      "no Overlays present in file.\n",
      "no Overlays present in file.\n",
      "no Overlays present in file.\n",
      "no Overlays present in file.\n",
      "no Overlays present in file.\n",
      "no Overlays present in file.\n",
      "no Overlays present in file.\n",
      "no Overlays present in file.\n",
      "no Overlays present in file.\n",
      "no Overlays present in file.\n",
      "no Overlays present in file.\n",
      "no Overlays present in file.\n",
      "no Overlays present in file.\n",
      "no Overlays present in file.\n",
      "no Overlays present in file.\n",
      "no Overlays present in file.\n",
      "no Overlays present in file.\n",
      "no Overlays present in file.\n",
      "no Overlays present in file.\n",
      "no Overlays present in file.\n",
      "no Overlays present in file.\n",
      "no Overlays present in file.\n",
      "no Overlays present in file.\n",
      "no Overlays present in file.\n",
      "no Overlays present in file.\n"
     ]
    }
   ],
   "source": [
    "\n",
    "channel = 0\n",
    "cell_data = []\n",
    "for path in outpaths:\n",
    "    cell_data.append(collect_info(path,channel,'mean'))\n",
    "copy_to_clipboard(cell_data)"
   ]
  },
  {
   "cell_type": "code",
   "execution_count": null,
   "metadata": {},
   "outputs": [],
   "source": []
  },
  {
   "cell_type": "markdown",
   "metadata": {},
   "source": [
    "### Save out image "
   ]
  },
  {
   "cell_type": "code",
   "execution_count": null,
   "metadata": {},
   "outputs": [],
   "source": [
    "channel = 0\n",
    "cell_data = []\n",
    "img_path = '/Users/dominicwaithe/Desktop/cell_images'\n",
    "imgnum = 0\n",
    "for path in outpaths:\n",
    "    data = collect_info(path,channel,'raw')\n",
    "    store_cell_data = []\n",
    "    for cell in range(0,data.__len__()):\n",
    "        img_vol = data[cell]\n",
    "        cell_shape = img_vol.__len__()\n",
    "        raw_img = img_vol[cell_shape//2]\n",
    "        img = normalise_for_8bit(raw_img)\n",
    "        n = str(imgnum)\n",
    "        io.imsave(img_path+\"/\"+n.zfill(8)+\".png\", img)  \n",
    "        imgnum +=1"
   ]
  },
  {
   "cell_type": "markdown",
   "metadata": {},
   "source": [
    "### Custom analysis - count foci"
   ]
  },
  {
   "cell_type": "code",
   "execution_count": null,
   "metadata": {},
   "outputs": [],
   "source": [
    "ntol = 500 #Noise Tolerance.\n",
    "channel = 1\n",
    "cell_data = []\n",
    "\n",
    "for path in outpaths:\n",
    "    data = collect_info(path,channel,'raw')\n",
    "    store_cell_data = []\n",
    "    for cell in range(0,data.__len__()):\n",
    "            y,x = return_maxima(data[cell],ntol)\n",
    "            store_cell_data.append(y.__len__())\n",
    "    cell_data.append(store_cell_data)\n",
    "\n",
    "copy_to_clipboard(cell_data)"
   ]
  },
  {
   "cell_type": "code",
   "execution_count": null,
   "metadata": {},
   "outputs": [],
   "source": [
    "img.shape"
   ]
  },
  {
   "cell_type": "code",
   "execution_count": null,
   "metadata": {},
   "outputs": [],
   "source": [
    "filepaths"
   ]
  },
  {
   "cell_type": "code",
   "execution_count": null,
   "metadata": {},
   "outputs": [],
   "source": [
    "tfile = tifffile.TiffFile('/Users/dominicwaithe/Documents/collaborators/SwiftLonnie/screens/acquisitions/0004_2020_11_23_high/images/img_stk_x_-10004.7y_1740.8.tif')"
   ]
  },
  {
   "cell_type": "code",
   "execution_count": null,
   "metadata": {},
   "outputs": [],
   "source": [
    "strn = tfile.imagej_metadata['Info']\n",
    "lines = strn.split(\"\\n\")\n",
    "for entry in lines:\n",
    "    if entry[:12] == 'Stage X-pos:':\n",
    "        stagex = float(entry.split(\":\")[1].split(\"um.\")[0])\n",
    "    if entry[:12] == 'Stage Y-pos:':\n",
    "        stagey = float(entry.split(\":\")[1].split(\"um.\")[0])\n",
    "    if entry[:11] == 'XY-spacing:':\n",
    "        voxelxy = float(entry.split(\":\")[1].split(\"um, Z-spacing\")[0])\n",
    "    if entry[:12] == 'Piezo Z-pos:':\n",
    "        stagez = np.array(entry.split(\":\")[1].split(\", (um)\")[0].split(',')).astype(np.float64)"
   ]
  },
  {
   "cell_type": "code",
   "execution_count": null,
   "metadata": {},
   "outputs": [],
   "source": [
    "stagez.sort()\n",
    "print( stagez)"
   ]
  },
  {
   "cell_type": "code",
   "execution_count": null,
   "metadata": {},
   "outputs": [],
   "source": [
    "tfile.imagej_metadata"
   ]
  },
  {
   "cell_type": "code",
   "execution_count": null,
   "metadata": {},
   "outputs": [],
   "source": []
  }
 ],
 "metadata": {
  "kernelspec": {
   "display_name": "Python 3",
   "language": "python",
   "name": "python3"
  },
  "language_info": {
   "codemirror_mode": {
    "name": "ipython",
    "version": 3
   },
   "file_extension": ".py",
   "mimetype": "text/x-python",
   "name": "python",
   "nbconvert_exporter": "python",
   "pygments_lexer": "ipython3",
   "version": "3.7.4"
  }
 },
 "nbformat": 4,
 "nbformat_minor": 4
}
