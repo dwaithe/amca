{
 "cells": [
  {
   "cell_type": "code",
   "execution_count": null,
   "metadata": {},
   "outputs": [],
   "source": [
    "\n",
    "### This notebook is used to convert ROI on single slices of the tiff-stacks into contigous detections."
   ]
  },
  {
   "cell_type": "code",
   "execution_count": 1,
   "metadata": {},
   "outputs": [
    {
     "name": "stdout",
     "output_type": "stream",
     "text": [
      "Populating the interactive namespace from numpy and matplotlib\n"
     ]
    }
   ],
   "source": [
    "%pylab inline\n",
    "import numpy as np\n",
    "import sys\n",
    "sys.path.append('../src')\n",
    "import det_sort as ds\n",
    "from convert_ROI_to_cell_volumes import ConvertROItoCellVolumes\n",
    "from ijroi.ij_roi import Roi\n",
    "from ijroi.ijpython_encoder import encode_ij_roi,RGB_encoder\n",
    "from ijroi.ijpython_decoder import decode_ij_roi\n",
    "\n",
    "import tifffile\n"
   ]
  },
  {
   "cell_type": "code",
   "execution_count": 2,
   "metadata": {},
   "outputs": [
    {
     "name": "stdout",
     "output_type": "stream",
     "text": [
      "line 35137 excluded as was not complete.\n"
     ]
    }
   ],
   "source": [
    "###Parameters.\n",
    "\n",
    "img_width = 512 #pixels\n",
    "img_height = 512 #pixels\n",
    "border_offset = 12 #If regions end or start within this they are included.\n",
    "scale = 0.26 #um/pixel\n",
    "zspacing = 0.50 #physical distance (um) between z-slices.\n",
    "filepath = \"/Users/dwaithe/Documents/collaborators/WaitheD/micro_vision/acquisitions/slide3/\"\n",
    "outpath  =  \"/Users/dwaithe/Desktop/out03/\"\n",
    "\n",
    "convObj = ConvertROItoCellVolumes(img_width, img_height, border_offset, scale, zspacing, filepath, outpath)\n",
    "convObj.append_new_regions(outpath, extend_roi=False)\n",
    "                      "
   ]
  },
  {
   "cell_type": "code",
   "execution_count": null,
   "metadata": {},
   "outputs": [],
   "source": [
    "convObj.plot_reg(outpath+\"/img_stk_x_-5000.6y_5008.4.tif\")"
   ]
  },
  {
   "cell_type": "code",
   "execution_count": null,
   "metadata": {},
   "outputs": [],
   "source": [
    "cell_data = []\n",
    "\n",
    "    \n",
    "ref_loc = convObj.ref_loc\n",
    "store_cell_data = []\n",
    "store_file_names = []\n",
    "for pathname in ref_loc:\n",
    "            coords = pathname.split(\"_\")\n",
    "            pathname2 ='img_stk_x_'+coords[0]+\"y_\"+coords[1]+\".tif\"\n",
    "            store_file_names.append(pathname2)\n",
    "            input_file = filepath+pathname2\n",
    "            input_test = \"/Users/dwaithe/Desktop/out03/\"+pathname2\n",
    "            tfile = tifffile.TiffFile(input_test)\n",
    "            img_stk = tfile.asarray()\n",
    "            slices = ref_loc[pathname] \n",
    "            data = []\n",
    "           \n",
    "            roi_array = convObj.return_overlay(tfile)\n",
    "\n",
    "\n",
    "            #plot_reg(img_stk, roi_array)\n",
    "            data = convObj.return_data_from_reg(img_stk, roi_array,'sum')\n",
    "            for cell in data:\n",
    "\n",
    "                store_cell_data.append(data[cell])\n",
    "            tfile.close()\n",
    "cell_data.append(np.copy(store_cell_data))"
   ]
  },
  {
   "cell_type": "code",
   "execution_count": null,
   "metadata": {},
   "outputs": [],
   "source": [
    "import pyperclip\n",
    "stg = \"\"\n",
    "for txt in store_file_names:\n",
    "    stg += str(txt) +'\\n'\n",
    "pyperclip.copy(stg)\n",
    "spam = pyperclip.paste()"
   ]
  },
  {
   "cell_type": "code",
   "execution_count": null,
   "metadata": {},
   "outputs": [],
   "source": [
    "plot(cell_data[0])"
   ]
  },
  {
   "cell_type": "code",
   "execution_count": null,
   "metadata": {},
   "outputs": [],
   "source": [
    "bins = np.linspace(0,16000,100)\n",
    "cell_total = list(meant[0])\n",
    "a,b = np.histogram(cell_total,bins=bins)\n",
    "plot(b[1:],a)\n",
    "cell_total = list(meant[1])\n",
    "a,b = np.histogram(cell_total,bins=bins)\n",
    "plot(b[1:],a)\n",
    "cell_total = list(meant[2])\n",
    "a,b = np.histogram(cell_total,bins=bins)\n",
    "plot(b[1:],a)\n"
   ]
  },
  {
   "cell_type": "code",
   "execution_count": null,
   "metadata": {
    "scrolled": true
   },
   "outputs": [],
   "source": [
    "bins = np.linspace(0,180000,20)\n",
    "cell_total = list(volume[0])\n",
    "a,b = np.histogram(cell_total,bins=bins)\n",
    "plot(b[1:],a)\n",
    "cell_total = list(volume[1])\n",
    "a,b = np.histogram(cell_total,bins=bins)\n",
    "plot(b[1:],a)\n",
    "cell_total = list(volume[2])\n",
    "a,b = np.histogram(cell_total,bins=bins)\n",
    "plot(b[1:],a)\n",
    "\n",
    "\n"
   ]
  },
  {
   "cell_type": "code",
   "execution_count": null,
   "metadata": {},
   "outputs": [],
   "source": [
    "bins = np.linspace(0,12000,20)\n",
    "cell_total = list(area[0])\n",
    "a,b = np.histogram(cell_total,bins=bins)\n",
    "plot(b[1:],a)\n",
    "cell_total = list(area[1])\n",
    "a,b = np.histogram(cell_total,bins=bins)\n",
    "plot(b[1:],a)\n",
    "cell_total = list(area[2])\n",
    "a,b = np.histogram(cell_total,bins=bins)\n",
    "plot(b[1:],a)\n",
    "\n"
   ]
  },
  {
   "cell_type": "code",
   "execution_count": null,
   "metadata": {},
   "outputs": [],
   "source": [
    "for i in range(0,3):\n",
    "    plot(sumt[i],volume[i],'o')"
   ]
  },
  {
   "cell_type": "code",
   "execution_count": null,
   "metadata": {},
   "outputs": [],
   "source": [
    "import tifffile\n",
    "import numpy as np\n",
    "\n",
    "pathfile = \"/Users/dwaithe/Documents/collaborators/WaitheD/micro_vision/results/\"\n",
    "f=open(pathfile+\"file_creation_list.txt\", \"r\")\n",
    "fl =f.readlines()\n",
    "creation_array = []\n",
    "file_name_array = []\n",
    "number_of_slices = []\n",
    "for x in fl:\n",
    "\tif x.split(\" \").__len__() >1:\n",
    "\t\tfile_name = x.split(\" \")[0]\n",
    "\t\ttimet = x.split(\" \")[-2].split(\":\")\n",
    "\t\tif timet.__len__() == 3:\n",
    "\t\t\t\n",
    "\t\t\t\n",
    "\t\t\ttry:\n",
    "\t\t\t\tinput_file = \"/Users/dwaithe/Documents/collaborators/WaitheD/micro_vision/acquisitions/slide3/data_correct_dim_order/\"\n",
    "\t\t\t\ttfile = tifffile.TiffFile(input_file+file_name)\n",
    "\t\t\t\tcreation_array.append(float(timet[0])*60.+float(timet[1])*60.+float(timet[2]))\n",
    "\t\t\t\tfile_name_array.append(file_name)\n",
    "\t\t\t\tnumber_of_slices.append(tfile.asarray().shape[0])\n",
    "\t\t\t\t\n",
    "\t\t\texcept:\n",
    "\t\t\t\tpass\n",
    "idx = np.argsort(creation_array)\n",
    "print(\"idx\",idx)\n",
    "creation_array = np.array(creation_array)[idx]\n",
    "file_name_array = np.array(file_name_array)[idx]\n",
    "number_of_slices = np.array(number_of_slices)[idx]\n",
    "l=creation_array[0]\n",
    "for i,j,k in zip(creation_array,file_name_array,number_of_slices):\n",
    "\tprint(j,\"\\t\",i-l,\"\\t\",k)\n",
    "\tl=i\t"
   ]
  },
  {
   "cell_type": "code",
   "execution_count": null,
   "metadata": {},
   "outputs": [],
   "source": [
    "def overlap(self,bb_test,bb_gt):\n",
    "        \"\"\"Computes IUO between two bboxes in the form [x1,y1,x2,y2]\"\"\"\n",
    "        xx1 = np.maximum(bb_test[0], bb_gt[0])\n",
    "        yy1 = np.maximum(bb_test[1], bb_gt[1])\n",
    "        xx2 = np.minimum(bb_test[2], bb_gt[2])\n",
    "        yy2 = np.minimum(bb_test[3], bb_gt[3])\n",
    "        w = np.maximum(0., xx2 - xx1)\n",
    "        h = np.maximum(0., yy2 - yy1)\n",
    "        wh = w * h\n",
    "        area_test = (bb_test[2]-bb_test[0])*(bb_test[3]-bb_test[1])\n",
    "        area_gt = (bb_gt[2]-bb_gt[0])*(bb_gt[3]-bb_gt[1])\n",
    "        o = wh / (area_test + area_gt - wh)\n",
    "\n",
    "        return o,(wh)/area_test,(wh)/area_gt\n",
    "\n",
    "xa0 = 5\n",
    "xa1 = 7\n",
    "ya0 = 6\n",
    "ya1 = 8\n",
    "\n",
    "xb0 = 6\n",
    "xb1 = 7\n",
    "yb0 = 6\n",
    "yb1 = 8\n",
    "plot([xa0,xa1,xa1,xa0,xa0],[ya0,ya0,ya1,ya1,ya0],'r-')\n",
    "plot([xb0,xb1,xb1,xb0,xb0],[yb0,yb0,yb1,yb1,yb0],'b-')\n",
    "GT = [xa0,ya0,xa1,ya1]\n",
    "test = [xb0,yb0,xb1,yb1]\n",
    "print(overlap(test,GT))"
   ]
  },
  {
   "cell_type": "code",
   "execution_count": null,
   "metadata": {},
   "outputs": [],
   "source": [
    "#Visualise avialable regions.\n",
    "plot(trk_mat[0,:],trk_mat[1,:],'o')"
   ]
  },
  {
   "cell_type": "code",
   "execution_count": null,
   "metadata": {},
   "outputs": [],
   "source": []
  },
  {
   "cell_type": "code",
   "execution_count": null,
   "metadata": {},
   "outputs": [],
   "source": []
  },
  {
   "cell_type": "code",
   "execution_count": null,
   "metadata": {},
   "outputs": [],
   "source": [
    "import cv2\n",
    "img = cv2.imread('/Users/dwaithe/Desktop/out.tif')\n",
    "x0 = -3266.7\n",
    "x1 = -1866.7\n",
    "y0 = 1291.7\n",
    "y1 = 2291.7\n",
    "\n",
    "figsize(12,12)\n",
    "#imshow(img)\n",
    "minx = np.min(trk_mat[0,:])\n",
    "miny = np.min(trk_mat[1,:])\n",
    "for d in out_results:\n",
    "    d = d.astype(np.int32)\n",
    "    #print(d)\n",
    "    \n",
    "    if d[0] > x0 and d[0] < x1:\n",
    "        if d[1] > y0 and d[1] < y1:\n",
    "            d[0] = (d[0]-minx)/0.26\n",
    "            d[2] = (d[2]-minx)/0.26\n",
    "            d[1] = (d[1]-miny)/0.26\n",
    "            d[3] = (d[3]-miny)/0.26\n",
    "            random.seed( d[4] )\n",
    "            R = (random.random())  # same random number as before\n",
    "            G = (random.random())  # same random number as before\n",
    "            B = (random.random()) # same random number as before\n",
    "            plot([d[0],d[2],d[2],d[0],d[0]],[d[1],d[1],d[3],d[3],d[1]],c=[R,G,B])\n",
    "plt.axis('equal')\n",
    "#plt.xlim(0,1000)\n",
    "#plt.ylim(2300,3800)"
   ]
  }
 ],
 "metadata": {
  "kernelspec": {
   "display_name": "Python 3",
   "language": "python",
   "name": "python3"
  },
  "language_info": {
   "codemirror_mode": {
    "name": "ipython",
    "version": 3
   },
   "file_extension": ".py",
   "mimetype": "text/x-python",
   "name": "python",
   "nbconvert_exporter": "python",
   "pygments_lexer": "ipython3",
   "version": "3.5.6"
  }
 },
 "nbformat": 4,
 "nbformat_minor": 2
}
