{
 "cells": [
  {
   "cell_type": "code",
   "execution_count": 7,
   "metadata": {},
   "outputs": [
    {
     "name": "stdout",
     "output_type": "stream",
     "text": [
      "Populating the interactive namespace from numpy and matplotlib\n"
     ]
    },
    {
     "name": "stderr",
     "output_type": "stream",
     "text": [
      "/opt/local/Library/Frameworks/Python.framework/Versions/3.5/lib/python3.5/site-packages/ipykernel_launcher.py:8: DeprecationWarning: Calling np.sum(generator) is deprecated, and in the future will give a different result. Use np.sum(np.from_iter(generator)) or the python sum builtin instead.\n",
      "  \n"
     ]
    },
    {
     "name": "stdout",
     "output_type": "stream",
     "text": [
      "minx -9421.0 maxx -5221.0\n",
      "miny 391.2 maxy 2791.2\n",
      "minz 0.9927999999999999 maxz 17.992800000000003\n"
     ]
    }
   ],
   "source": [
    "%pylab inline\n",
    "import numpy as np\n",
    "import det_sort as ds\n",
    "\n",
    "\n",
    "file_name = \"/Users/dwaithe/Documents/collaborators/WaitheD/micro_vision/tracking/file_pos_export.txt\"\n",
    "\n",
    "num_lines = sum(1 for line in open(file_name))\n",
    "trk_mat = np.zeros((9,num_lines)).astype(np.float64)\n",
    "c = 0\n",
    "file = open(file_name,\"r\")\n",
    "for line in file:\n",
    "    line = line.strip('\\n')\n",
    "    items = line.split(\",\")\n",
    "    #print(items)\n",
    "    for i in range(0,8):\n",
    "        trk_mat[i,c] = np.float(items[i])\n",
    "    trk_mat[8,c] = -1\n",
    "    c += 1\n",
    "#print( file.readline() )\n",
    "##This is how we find the neighbours.\n",
    "def create_neighbour_directory(trk_mat):\n",
    "    def rtn_comp(ax, alt, aht, bx, blt, bht):#, cx, clt, cht):\n",
    "        return (ax > alt ) & (ax < aht)\t& (bx > blt ) & (bx < bht )# & (cx > clt ) & (cx < cht )\n",
    "    def rtn_hyp(ax0,ax1,bx0,bx1,xy_dist):\n",
    "        return sqrt((ax0-ax1)**2 + (bx0-bx1)**2)<xy_dist\n",
    "    xuni = np.unique(trk_mat[0,:])\n",
    "    yuni = np.unique(trk_mat[1,:])\n",
    "    zuni = np.unique(trk_mat[2,:])\n",
    "    xy_dist = 101 #um\n",
    "    coord = {} \n",
    "\n",
    "    #Populate a list of all possible coordinate neighbours within threshold.\n",
    "    for xk0 in xuni:\n",
    "        for yk0 in yuni:\n",
    "            ent  =str(xk0)+'_'+str(yk0)\n",
    "\n",
    "            coord[ent] = []\n",
    "\n",
    "\n",
    "            for xk1 in xuni:\n",
    "                for yk1 in yuni:\n",
    "                    #if xk0 != xk1 or yk0 != yk1:\n",
    "                        hit = rtn_comp(xk0,xk1,xk1+xy_dist//2,yk0,yk1,yk1+xy_dist+xy_dist//2)\n",
    "                        #hit = rtn_hyp(xk0,xk1,yk0,yk1,xy_dist)\n",
    "                        if hit == True:\n",
    "                            coord[ent].append([xk1,yk1]) \n",
    "\n",
    "    return coord  \n",
    "def return_neighbours(coord,x,y):\n",
    "    return coord[str(x)+\"_\"+str(y)]\n",
    "def py_cpu_nms(dets, thresh):\n",
    "    \"\"\"Pure Python NMS baseline.\"\"\"\n",
    "    x1 = dets[:, 0]\n",
    "    y1 = dets[:, 1]\n",
    "    x2 = dets[:, 2]\n",
    "    y2 = dets[:, 3]\n",
    "    scores = dets[:, 4]\n",
    "\n",
    "    areas = (x2 - x1 + 1) * (y2 - y1 + 1)\n",
    "    order = scores.argsort()[::-1]\n",
    "\n",
    "    keep = []\n",
    "    while order.size > 0:\n",
    "        i = order[0]\n",
    "        keep.append(i)\n",
    "        xx1 = np.maximum(x1[i], x1[order[1:]])\n",
    "        yy1 = np.maximum(y1[i], y1[order[1:]])\n",
    "        xx2 = np.minimum(x2[i], x2[order[1:]])\n",
    "        yy2 = np.minimum(y2[i], y2[order[1:]])\n",
    "\n",
    "        w = np.maximum(0.0, xx2 - xx1 + 1)\n",
    "        h = np.maximum(0.0, yy2 - yy1 + 1)\n",
    "        inter = w * h\n",
    "        ovr = inter / (areas[i] + areas[order[1:]] - inter)\n",
    "\n",
    "        inds = np.where(ovr <= thresh)[0]\n",
    "        order = order[inds + 1]\n",
    "\n",
    "    return keep\n",
    "def py_cpu_nms_overlap(dets, thresh):\n",
    "    \"\"\"Pure Python NMS baseline.\"\"\"\n",
    "    x1 = dets[:, 0]\n",
    "    y1 = dets[:, 1]\n",
    "    x2 = dets[:, 2]\n",
    "    y2 = dets[:, 3]\n",
    "    scores = dets[:, 4]\n",
    "\n",
    "    areas = (x2 - x1 + 1) * (y2 - y1 + 1)\n",
    "    order = areas.argsort()[::-1]\n",
    "\n",
    "    keep = []\n",
    "    while order.size > 0:\n",
    "        i = order[0]\n",
    "        keep.append(i)\n",
    "        xx1 = np.maximum(x1[i], x1[order[1:]])\n",
    "        yy1 = np.maximum(y1[i], y1[order[1:]])\n",
    "        xx2 = np.minimum(x2[i], x2[order[1:]])\n",
    "        yy2 = np.minimum(y2[i], y2[order[1:]])\n",
    "\n",
    "        w = np.maximum(0.0, xx2 - xx1 + 1)\n",
    "        h = np.maximum(0.0, yy2 - yy1 + 1)\n",
    "        inter = w * h\n",
    "        ovr = inter / (areas[i] + areas[order[1:]] - inter)\n",
    "        \n",
    "        overlap = inter/areas[order[1:]]\n",
    "        inds = np.where(overlap <= thresh)[0]\n",
    "        order = order[inds + 1]\n",
    "\n",
    "    return keep\n",
    "def overlap(bb_test,bb_gt):\n",
    "    \"\"\"Computes IUO between two bboxes in the form [x1,y1,x2,y2]\"\"\"\n",
    "    xx1 = np.maximum(bb_test[0], bb_gt[0])\n",
    "    yy1 = np.maximum(bb_test[1], bb_gt[1])\n",
    "    xx2 = np.minimum(bb_test[2], bb_gt[2])\n",
    "    yy2 = np.minimum(bb_test[3], bb_gt[3])\n",
    "    w = np.maximum(0., xx2 - xx1)\n",
    "    h = np.maximum(0., yy2 - yy1)\n",
    "    wh = w * h\n",
    "    area_test = (bb_test[2]-bb_test[0])*(bb_test[3]-bb_test[1])\n",
    "    area_gt = (bb_gt[2]-bb_gt[0])*(bb_gt[3]-bb_gt[1])\n",
    "    o = wh / (area_test + area_gt - wh)\n",
    "\n",
    "    return o,(wh)/area_test,(wh)/area_gt\n",
    "\n",
    "print('minx', np.min(trk_mat[0,:]),'maxx',np.max(trk_mat[0,:]))\n",
    "print('miny', np.min(trk_mat[1,:]),'maxy',np.max(trk_mat[1,:]))\n",
    "print('minz', np.min(trk_mat[2,:]),'maxz',np.max(trk_mat[2,:]))"
   ]
  },
  {
   "cell_type": "code",
   "execution_count": 270,
   "metadata": {},
   "outputs": [
    {
     "data": {
      "text/plain": [
       "array([-7.5735e+03, -4.0880e+02,  8.4940e+00,  4.7809e+01,  3.1500e-01,\n",
       "        1.7173e+01,  1.4687e+01,  1.0000e+00, -1.0000e+00])"
      ]
     },
     "execution_count": 270,
     "metadata": {},
     "output_type": "execute_result"
    }
   ],
   "source": [
    "np.round(trk_mat[:,0],3)"
   ]
  },
  {
   "cell_type": "code",
   "execution_count": 8,
   "metadata": {
    "scrolled": false
   },
   "outputs": [
    {
     "name": "stdout",
     "output_type": "stream",
     "text": [
      "(9, 46951)\n"
     ]
    },
    {
     "name": "stderr",
     "output_type": "stream",
     "text": [
      "/opt/local/Library/Frameworks/Python.framework/Versions/3.5/lib/python3.5/site-packages/ipykernel_launcher.py:61: DeprecationWarning: elementwise != comparison failed; this will raise an error in the future.\n"
     ]
    },
    {
     "name": "stdout",
     "output_type": "stream",
     "text": [
      "idshape (2524,)\n"
     ]
    }
   ],
   "source": [
    "#We find only save regions and exclude the rest.\n",
    "\n",
    "\n",
    "\n",
    "#This is the unique values from an array.\n",
    "x_unq = np.unique(trk_mat[0,:])\n",
    "y_unq = np.unique(trk_mat[1,:])\n",
    "z_unq = np.unique(trk_mat[2,:])\n",
    "print(trk_mat.shape)\n",
    "first_glance = []\n",
    "\n",
    "trs = trk_mat\n",
    "\n",
    "#for c in range(0,trs.shape[1]):\n",
    "a1 = (512.*0.26 - trs[3,:]) - trs[5,:]\n",
    "x1 = a1 + trs[0,:] \n",
    "b1 = trs[4,:]\n",
    "y1 = b1 + trs[1,:] \n",
    "\n",
    "x2 = x1+(trs[5,:])\n",
    "a2 = a1+(trs[5,:])\n",
    "y2 = y1+(trs[6,:])\n",
    "b2 = b1+(trs[6,:])\n",
    "\n",
    "#Filter away regions near edge of image.\n",
    "boolind = (a1/0.26 > 12.) & (a2/0.26 < 500.) & (b1/0.26 > 12.) & (b2/0.26 < 500.)\n",
    "\n",
    "up = boolind\n",
    "dn = (1-boolind).astype(np.bool)\n",
    "trk_mat = trk_mat[:,up]\n",
    "#plot([x1[up],x2[up],x2[up],x1[up],x1[up]],[y1[up],y1[up],y2[up],y2[up],y1[up]],'-', c='r', alpha=0.3)\n",
    "#plot([x1[dn],x2[dn],x2[dn],x1[dn],x1[dn]],[y1[dn],y1[dn],y2[dn],y2[dn],y1[dn]],'-', c='g', alpha=0.3)\n",
    "           \n",
    "coord = create_neighbour_directory(trk_mat)#Find neighbouring regions.\n",
    "         \n",
    "\n",
    "in_results = []\n",
    "out_results = []\n",
    "for stg_x in x_unq:\n",
    "    for stg_y in y_unq:\n",
    "        ind = ((trk_mat[0,:] == float(stg_x)) & (trk_mat[1,:] == float(stg_y)))\n",
    "        trks = trk_mat[:,ind]\n",
    "        mot_tracker = []\n",
    "        mot_tracker = ds.Sort(max_age=100,min_hits=0)\n",
    "        \n",
    "        trackers = None\n",
    "        for z in z_unq:\n",
    "            ind = np.where(trks[2,:] == z)[0]\n",
    "            trs = trks[:,ind]\n",
    "\n",
    "            dets = []\n",
    "            for c in range(0,trs.shape[1]):\n",
    "                x1 = trs[0,c] + (512.*0.26 - trs[3,c]) - trs[5,c]\n",
    "                y1 = trs[1,c] + trs[4,c]\n",
    "                z = trs[2,c]\n",
    "                x2 = x1+(trs[5,c])\n",
    "                y2 = y1+(trs[6,c])\n",
    "                detstxt = np.array([x1,y1,x2,y2]).astype(np.float64)\n",
    "                dets.append(detstxt)\n",
    "                in_results.append(detstxt)\n",
    "            if dets == [] or dets[0] != []:\n",
    "                trackers = mot_tracker.update(np.array(dets))\n",
    "            trackers_wz = []\n",
    "            for track in trackers:\n",
    "                trackers_wz.append(np.append(track.astype(np.float64),[stg_x,stg_y,z]))\n",
    "            out_results.extend(trackers_wz)\n",
    "\n",
    "out_results = np.array(out_results)\n",
    "\n",
    "#Correct regions to be same size.\n",
    "ids = np.unique(out_results[:,4])\n",
    "out_out =[]\n",
    "for idt in ids:\n",
    "    idx = np.where(out_results[:,4] == idt)\n",
    "    if idx[0].shape[0] >2:\n",
    "            \n",
    "        out_results[idx,0] = np.min(out_results[idx,0])\n",
    "        out_results[idx,1] = np.min(out_results[idx,1])\n",
    "        out_results[idx,2] = np.max(out_results[idx,2])\n",
    "        out_results[idx,3] = np.max(out_results[idx,3])\n",
    "\n",
    "        out_out.append(out_results[idx[0][0],:])\n",
    "print('idshape',ids.shape) \n",
    "\n",
    "with open('somefile.txt', 'w') as the_file:\n",
    "    out_str =\"\"\n",
    "    for outline in out_out:\n",
    "        out_str += np.array2string(outline, precision=2, separator=',', suppress_small=True)[1:-1]+'\\n'\n",
    "    the_file.write(out_str)   \n"
   ]
  },
  {
   "cell_type": "code",
   "execution_count": 420,
   "metadata": {
    "scrolled": false
   },
   "outputs": [
    {
     "name": "stdout",
     "output_type": "stream",
     "text": [
      "(9, 5007)\n",
      "stg_x -7673.5 stg_y -408.8 trk_mat (9, 5007)\n",
      "stg_x -7673.5 stg_y -308.8 trk_mat (9, 5007)\n",
      "stg_x -7673.5 stg_y -208.8 trk_mat (9, 5007)\n",
      "stg_x -7673.5 stg_y -108.8 trk_mat (9, 5007)\n",
      "stg_x -7673.5 stg_y -8.8 trk_mat (9, 5007)\n",
      "stg_x -7673.5 stg_y 91.2 trk_mat (9, 5007)\n",
      "stg_x -7673.5 stg_y 191.2 trk_mat (9, 5007)\n",
      "stg_x -7573.5 stg_y -408.8 trk_mat (9, 5007)\n",
      "stg_x -7573.5 stg_y -308.8 trk_mat (9, 5007)\n",
      "stg_x -7573.5 stg_y -208.8 trk_mat (9, 5007)\n",
      "stg_x -7573.5 stg_y -108.8 trk_mat (9, 5007)\n",
      "stg_x -7573.5 stg_y -8.8 trk_mat (9, 5007)\n",
      "stg_x -7573.5 stg_y 91.2 trk_mat (9, 5007)\n",
      "stg_x -7573.5 stg_y 191.2 trk_mat (9, 5007)\n",
      "stg_x -7473.5 stg_y -408.8 trk_mat (9, 5007)\n",
      "stg_x -7473.5 stg_y -308.8 trk_mat (9, 5007)\n",
      "stg_x -7473.5 stg_y -208.8 trk_mat (9, 5007)\n",
      "stg_x -7473.5 stg_y -108.8 trk_mat (9, 5007)\n",
      "stg_x -7473.5 stg_y -8.8 trk_mat (9, 5007)\n",
      "stg_x -7473.5 stg_y 91.2 trk_mat (9, 5007)\n",
      "stg_x -7473.5 stg_y 191.2 trk_mat (9, 5007)\n",
      "stg_x -7373.5 stg_y -408.8 trk_mat (9, 5007)\n",
      "stg_x -7373.5 stg_y -308.8 trk_mat (9, 5007)\n",
      "stg_x -7373.5 stg_y -208.8 trk_mat (9, 5007)\n",
      "stg_x -7373.5 stg_y -108.8 trk_mat (9, 5007)\n",
      "stg_x -7373.5 stg_y -8.8 trk_mat (9, 5007)\n",
      "stg_x -7373.5 stg_y 91.2 trk_mat (9, 5007)\n",
      "stg_x -7373.5 stg_y 191.2 trk_mat (9, 5007)\n",
      "stg_x -7273.5 stg_y -408.8 trk_mat (9, 5007)\n",
      "stg_x -7273.5 stg_y -308.8 trk_mat (9, 5007)\n",
      "stg_x -7273.5 stg_y -208.8 trk_mat (9, 5007)\n",
      "stg_x -7273.5 stg_y -108.8 trk_mat (9, 5007)\n",
      "stg_x -7273.5 stg_y -8.8 trk_mat (9, 5007)\n",
      "stg_x -7273.5 stg_y 91.2 trk_mat (9, 5007)\n",
      "stg_x -7273.5 stg_y 191.2 trk_mat (9, 5007)\n",
      "stg_x -7173.5 stg_y -408.8 trk_mat (9, 5007)\n",
      "stg_x -7173.5 stg_y -308.8 trk_mat (9, 5007)\n",
      "stg_x -7173.5 stg_y -208.8 trk_mat (9, 5007)\n",
      "stg_x -7173.5 stg_y -108.8 trk_mat (9, 5007)\n",
      "stg_x -7173.5 stg_y -8.8 trk_mat (9, 5007)\n",
      "stg_x -7173.5 stg_y 91.2 trk_mat (9, 5007)\n",
      "stg_x -7173.5 stg_y 191.2 trk_mat (9, 5007)\n",
      "stg_x -7073.5 stg_y -408.8 trk_mat (9, 5007)\n",
      "stg_x -7073.5 stg_y -308.8 trk_mat (9, 5007)\n",
      "stg_x -7073.5 stg_y -208.8 trk_mat (9, 5007)\n",
      "stg_x -7073.5 stg_y -108.8 trk_mat (9, 5007)\n",
      "stg_x -7073.5 stg_y -8.8 trk_mat (9, 5007)\n",
      "stg_x -7073.5 stg_y 91.2 trk_mat (9, 5007)\n",
      "stg_x -7073.5 stg_y 191.2 trk_mat (9, 5007)\n",
      "stg_x -6973.5 stg_y -408.8 trk_mat (9, 5007)\n",
      "stg_x -6973.5 stg_y -308.8 trk_mat (9, 5007)\n",
      "stg_x -6973.5 stg_y -208.8 trk_mat (9, 5007)\n",
      "stg_x -6973.5 stg_y -108.8 trk_mat (9, 5007)\n",
      "stg_x -6973.5 stg_y -8.8 trk_mat (9, 5007)\n",
      "stg_x -6973.5 stg_y 91.2 trk_mat (9, 5007)\n",
      "stg_x -6973.5 stg_y 191.2 trk_mat (9, 5007)\n",
      "stg_x -6873.5 stg_y -408.8 trk_mat (9, 5007)\n",
      "stg_x -6873.5 stg_y -308.8 trk_mat (9, 5007)\n",
      "stg_x -6873.5 stg_y -208.8 trk_mat (9, 5007)\n",
      "stg_x -6873.5 stg_y -108.8 trk_mat (9, 5007)\n",
      "stg_x -6873.5 stg_y -8.8 trk_mat (9, 5007)\n",
      "stg_x -6873.5 stg_y 91.2 trk_mat (9, 5007)\n",
      "stg_x -6873.5 stg_y 191.2 trk_mat (9, 5007)\n",
      "stg_x -6773.5 stg_y -408.8 trk_mat (9, 5007)\n",
      "stg_x -6773.5 stg_y -308.8 trk_mat (9, 5007)\n",
      "stg_x -6773.5 stg_y -208.8 trk_mat (9, 5007)\n",
      "stg_x -6773.5 stg_y -108.8 trk_mat (9, 5007)\n",
      "stg_x -6773.5 stg_y -8.8 trk_mat (9, 5007)\n",
      "stg_x -6773.5 stg_y 91.2 trk_mat (9, 5007)\n",
      "stg_x -6773.5 stg_y 191.2 trk_mat (9, 5007)\n",
      "stg_x -6673.5 stg_y -408.8 trk_mat (9, 5007)\n",
      "stg_x -6673.5 stg_y -308.8 trk_mat (9, 5007)\n",
      "stg_x -6673.5 stg_y -208.8 trk_mat (9, 5007)\n",
      "stg_x -6673.5 stg_y -108.8 trk_mat (9, 5007)\n",
      "stg_x -6673.5 stg_y -8.8 trk_mat (9, 5007)\n",
      "stg_x -6673.5 stg_y 91.2 trk_mat (9, 5007)\n",
      "stg_x -6673.5 stg_y 191.2 trk_mat (9, 5007)\n",
      "stg_x -6573.5 stg_y -408.8 trk_mat (9, 5007)\n",
      "stg_x -6573.5 stg_y -308.8 trk_mat (9, 5007)\n",
      "stg_x -6573.5 stg_y -208.8 trk_mat (9, 5007)\n",
      "stg_x -6573.5 stg_y -108.8 trk_mat (9, 5007)\n",
      "stg_x -6573.5 stg_y -8.8 trk_mat (9, 5007)\n",
      "stg_x -6573.5 stg_y 91.2 trk_mat (9, 5007)\n",
      "stg_x -6573.5 stg_y 191.2 trk_mat (9, 5007)\n",
      "stg_x -6473.5 stg_y -408.8 trk_mat (9, 5007)\n",
      "stg_x -6473.5 stg_y -308.8 trk_mat (9, 5007)\n",
      "stg_x -6473.5 stg_y -208.8 trk_mat (9, 5007)\n",
      "stg_x -6473.5 stg_y -108.8 trk_mat (9, 5007)\n",
      "stg_x -6473.5 stg_y -8.8 trk_mat (9, 5007)\n",
      "stg_x -6473.5 stg_y 91.2 trk_mat (9, 5007)\n",
      "stg_x -6473.5 stg_y 191.2 trk_mat (9, 5007)\n",
      "stg_x -6373.5 stg_y -408.8 trk_mat (9, 5007)\n",
      "stg_x -6373.5 stg_y -308.8 trk_mat (9, 5007)\n",
      "stg_x -6373.5 stg_y -208.8 trk_mat (9, 5007)\n",
      "stg_x -6373.5 stg_y -108.8 trk_mat (9, 5007)\n",
      "stg_x -6373.5 stg_y -8.8 trk_mat (9, 5007)\n",
      "stg_x -6373.5 stg_y 91.2 trk_mat (9, 5007)\n",
      "stg_x -6373.5 stg_y 191.2 trk_mat (9, 5007)\n",
      "(9, 5007)\n"
     ]
    },
    {
     "name": "stderr",
     "output_type": "stream",
     "text": [
      "/opt/local/Library/Frameworks/Python.framework/Versions/3.5/lib/python3.5/site-packages/ipykernel_launcher.py:104: DeprecationWarning: elementwise != comparison failed; this will raise an error in the future.\n"
     ]
    },
    {
     "name": "stdout",
     "output_type": "stream",
     "text": [
      "idshape (420,)\n"
     ]
    }
   ],
   "source": [
    "#This is the unique values from an array.\n",
    "x_unq = np.unique(trk_mat[0,:])\n",
    "y_unq = np.unique(trk_mat[1,:])\n",
    "z_unq = np.unique(trk_mat[2,:])\n",
    "print(trk_mat.shape)\n",
    "first_glance = []\n",
    "trs = trk_mat\n",
    "for c in range(0,trs.shape[1]):\n",
    "    x1 = trs[0,c] + (512.*0.26 - trs[3,c]) - trs[5,c]\n",
    "    y1 = trs[1,c] + trs[4,c]\n",
    "    z = trs[2,c]\n",
    "    x2 = x1+(trs[5,c])\n",
    "    y2 = y1+(trs[6,c])\n",
    "    detstxt = np.array([x1,y1,x2,y2]).astype(np.float64)\n",
    "    dets.append(detstxt)\n",
    "    first_glance.append(detstxt)\n",
    "           \n",
    "coord = create_neighbour_directory(trk_mat)#Find neighbouring regions.\n",
    "\n",
    "for stg_x in x_unq:\n",
    "    for stg_y in y_unq:\n",
    "        print('stg_x',stg_x,'stg_y',stg_y,'trk_mat',trk_mat.shape)\n",
    "        rtn_nbours = return_neighbours(coord,stg_x,stg_y)\n",
    "        \n",
    "        \n",
    "        for z in z_unq:\n",
    "            #Find and create list of all regions in neighbourhood\n",
    "            ind = []\n",
    "            for ngh in rtn_nbours:\n",
    "                #print(ngh)\n",
    "                ind1 = (trk_mat[0,:] == float(ngh[0]))\n",
    "                ind2 = (trk_mat[1,:] == float(ngh[1]))\n",
    "                ind3 = (trk_mat[2,:] == z)\n",
    "                a = list(np.where(ind1 & ind2 & ind3))\n",
    "                ind.extend(a[0])\n",
    "            indices = np.unique(ind)\n",
    "            if ind ==[]:\n",
    "                continue\n",
    "           \n",
    "            #Refine that list by z-depth.\n",
    "        \n",
    "            \n",
    "            trs = trk_mat[:,indices]\n",
    "            dets = []\n",
    "            in_results = []\n",
    "            for c in range(0,trs.shape[1]):\n",
    "                x1 = trs[0,c] + (512.*0.26 - trs[3,c]) - trs[5,c]\n",
    "                y1 = trs[1,c] + trs[4,c]\n",
    "                z = trs[2,c]\n",
    "                x2 = x1+(trs[5,c])\n",
    "                y2 = y1+(trs[6,c])\n",
    "                score = trs[7,c]\n",
    "                detstxt = np.array([x1,y1,x2,y2,score]).astype(np.float64)\n",
    "                \n",
    "                in_results.append(np.append(detstxt.astype(np.float64),[trs[0,c],trs[1,c],z,]))\n",
    "            if in_results != []:\n",
    "                out_index = np.array(py_cpu_nms_overlap(np.array(in_results), 0.1))\n",
    "                to_remove = set(np.arange(0,in_results.__len__()))-set(out_index) \n",
    "                #print(set(np.arange(0,in_results.__len__())),set(out_index),np.array(to_remove))\n",
    "                if list(to_remove) != []:\n",
    "                    #print(set(np.arange(0,in_results.__len__())),set(out_index),np.array(to_remove))\n",
    "                    trk_mat = np.delete(trk_mat, indices[np.array(list(to_remove))],1)\n",
    "            \n",
    "print(trk_mat.shape)\n",
    "second_glance = []\n",
    "trs = trk_mat\n",
    "for c in range(0,trs.shape[1]):\n",
    "    x1 = trs[0,c] + (512.*0.26 - trs[3,c]) - trs[5,c]\n",
    "    y1 = trs[1,c] + trs[4,c]\n",
    "    z = trs[2,c]\n",
    "    x2 = x1+(trs[5,c])\n",
    "    y2 = y1+(trs[6,c])\n",
    "    detstxt = np.array([x1,y1,x2,y2]).astype(np.float64)\n",
    "    dets.append(detstxt)\n",
    "    second_glance.append(detstxt)\n",
    "           \n",
    "\n",
    "            \n",
    "\n",
    "in_results = []\n",
    "out_results = []\n",
    "for stg_x in x_unq:\n",
    "    for stg_y in y_unq:\n",
    "        ind = ((trk_mat[0,:] == float(stg_x)) & (trk_mat[1,:] == float(stg_y)))\n",
    "        trks = trk_mat[:,ind]\n",
    "        mot_tracker = []\n",
    "        mot_tracker = ds.Sort(max_age=30,min_hits=30)\n",
    "        \n",
    "        trackers = None\n",
    "        for z in z_unq:\n",
    "            ind = np.where(trks[2,:] == z)[0]\n",
    "            trs = trks[:,ind]\n",
    "\n",
    "            dets = []\n",
    "            for c in range(0,trs.shape[1]):\n",
    "                x1 = trs[0,c] + (512.*0.26 - trs[3,c]) - trs[5,c]\n",
    "                y1 = trs[1,c] + trs[4,c]\n",
    "                z = trs[2,c]\n",
    "                x2 = x1+(trs[5,c])\n",
    "                y2 = y1+(trs[6,c])\n",
    "                detstxt = np.array([x1,y1,x2,y2]).astype(np.float64)\n",
    "                dets.append(detstxt)\n",
    "                in_results.append(detstxt)\n",
    "            if dets == [] or dets[0] != []:\n",
    "                trackers = mot_tracker.update(np.array(dets))\n",
    "            trackers_wz = []\n",
    "            for track in trackers:\n",
    "                trackers_wz.append(np.append(track.astype(np.float64),[stg_x,stg_y,z]))\n",
    "            out_results.extend(trackers_wz)\n",
    "\n",
    "out_results = np.array(out_results)\n",
    "\n",
    "#Correct regions to be same size.\n",
    "ids = np.unique(out_results[:,4])\n",
    "out_out =[]\n",
    "for idt in ids:\n",
    "    idx = np.where(out_results[:,4] == idt)\n",
    "    if idx[0].shape[0] >2:\n",
    "            \n",
    "        out_results[idx,0] = np.min(out_results[idx,0])\n",
    "        out_results[idx,1] = np.min(out_results[idx,1])\n",
    "        out_results[idx,2] = np.max(out_results[idx,2])\n",
    "        out_results[idx,3] = np.max(out_results[idx,3])\n",
    "\n",
    "        out_out.append(out_results[idx[0][0],:])\n",
    "print('idshape',ids.shape) \n",
    "\n",
    "with open('somefile.txt', 'w') as the_file:\n",
    "    out_str =\"\"\n",
    "    for outline in out_out:\n",
    "        out_str += np.array2string(outline, precision=2, separator=',', suppress_small=True)[1:-1]+'\\n'\n",
    "    the_file.write(out_str)   \n"
   ]
  },
  {
   "cell_type": "code",
   "execution_count": 322,
   "metadata": {},
   "outputs": [
    {
     "data": {
      "text/plain": [
       "[]"
      ]
     },
     "execution_count": 322,
     "metadata": {},
     "output_type": "execute_result"
    }
   ],
   "source": [
    "trackers_wz"
   ]
  },
  {
   "cell_type": "raw",
   "metadata": {},
   "source": [
    "t0 = time.time()\n",
    "local_results = out_results[close_regions,:]\n",
    "z_local = local_results[local_results[:,7] == z_unq[10]]\n",
    "z_local_less = np.array(py_cpu_nms(z_local,0.2))\n",
    "print(z_local.shape)\n",
    "t1 = time.time()\n",
    "print(\"timet\",t1-t0)\n",
    "    #for dix in close_regions:\n",
    "    \n",
    "     #   print(out_results[dix])"
   ]
  },
  {
   "cell_type": "code",
   "execution_count": null,
   "metadata": {},
   "outputs": [],
   "source": []
  },
  {
   "cell_type": "code",
   "execution_count": null,
   "metadata": {},
   "outputs": [],
   "source": [
    "#Correct regions to be same size.\n",
    "ids = np.unique(out_results[:,4])\n",
    "out_out =[]\n",
    "for idt in ids:\n",
    "    idx = np.where(out_results[:,4] == idt)\n",
    "    out_results[idx,0] = np.min(out_results[idx,0])\n",
    "    out_results[idx,1] = np.min(out_results[idx,1])\n",
    "    out_results[idx,2] = np.max(out_results[idx,2])\n",
    "    out_results[idx,3] = np.max(out_results[idx,3])\n",
    "    out_out.append(out_results[idx[0][0],:])"
   ]
  },
  {
   "cell_type": "code",
   "execution_count": 123,
   "metadata": {},
   "outputs": [],
   "source": [
    "def py_cpu_nms(dets, thresh):\n",
    "    \"\"\"Pure Python NMS baseline.\"\"\"\n",
    "    x1 = dets[:, 0]\n",
    "    y1 = dets[:, 1]\n",
    "    x2 = dets[:, 2]\n",
    "    y2 = dets[:, 3]\n",
    "    scores = dets[:, 7]\n",
    "    print(scores)\n",
    "    areas = (x2 - x1 + 1) * (y2 - y1 + 1)\n",
    "    order = areas.argsort()[::-1]\n",
    "\n",
    "    keep = []\n",
    "    while order.size > 0:\n",
    "        i = order[0]\n",
    "        keep.append(i)\n",
    "        xx1 = np.maximum(x1[i], x1[order[1:]])\n",
    "        yy1 = np.maximum(y1[i], y1[order[1:]])\n",
    "        xx2 = np.minimum(x2[i], x2[order[1:]])\n",
    "        yy2 = np.minimum(y2[i], y2[order[1:]])\n",
    "\n",
    "        w = np.maximum(0.0, xx2 - xx1 + 1)\n",
    "        h = np.maximum(0.0, yy2 - yy1 + 1)\n",
    "        inter = w * h\n",
    "        ovr = inter / (areas[i] + areas[order[1:]] - inter)\n",
    "\n",
    "        inds = np.where(ovr <= thresh)[0]\n",
    "        order = order[inds + 1]\n",
    "\n",
    "    return keep"
   ]
  },
  {
   "cell_type": "code",
   "execution_count": 437,
   "metadata": {},
   "outputs": [
    {
     "name": "stdout",
     "output_type": "stream",
     "text": [
      "-7673.5 -408.8\n"
     ]
    }
   ],
   "source": [
    "print(np.min(trk_mat[0,:]),np.min(trk_mat[1,:]))"
   ]
  },
  {
   "cell_type": "code",
   "execution_count": 431,
   "metadata": {
    "scrolled": true
   },
   "outputs": [
    {
     "name": "stdout",
     "output_type": "stream",
     "text": [
      "mmm\n"
     ]
    },
    {
     "data": {
      "text/plain": [
       "[]"
      ]
     },
     "execution_count": 431,
     "metadata": {},
     "output_type": "execute_result"
    },
    {
     "data": {
      "image/png": "[encoded data removed]",
      "text/plain": [
       "<Figure size 432x288 with 1 Axes>"
      ]
     },
     "metadata": {
      "needs_background": "light"
     },
     "output_type": "display_data"
    }
   ],
   "source": [
    "\n",
    "trs = trk_mat\n",
    "\n",
    "#for c in range(0,trs.shape[1]):\n",
    "a1 = (512.*0.26 - trs[3,:]) - trs[5,:]\n",
    "x1 = a1 + trs[0,:] \n",
    "b1 = trs[4,:]\n",
    "y1 = b1 + trs[1,:] \n",
    "\n",
    "x2 = x1+(trs[5,:])\n",
    "a2 = a1+(trs[5,:])\n",
    "y2 = y1+(trs[6,:])\n",
    "b2 = b1+(trs[6,:])\n",
    "\n",
    "boolind = (a1/0.26 > 25) & (a2/0.26 < 487) & (b1/0.26 > 25) & (b2/0.26 < 487)\n",
    "\n",
    "up = boolind\n",
    "dn = (1-boolind).astype(np.bool)\n",
    "print('mmm')\n",
    "plot([x1[up],x2[up],x2[up],x1[up],x1[up]],[y1[up],y1[up],y2[up],y2[up],y1[up]],'-', c='r', alpha=0.3)\n",
    "plot([x1[dn],x2[dn],x2[dn],x1[dn],x1[dn]],[y1[dn],y1[dn],y2[dn],y2[dn],y1[dn]],'-', c='g', alpha=0.3)\n",
    "\n",
    "#ylim(0,300)\n",
    "#xlim(-7700,-7400)\n"
   ]
  },
  {
   "cell_type": "code",
   "execution_count": 400,
   "metadata": {},
   "outputs": [
    {
     "name": "stdout",
     "output_type": "stream",
     "text": [
      "(9, 5257)\n",
      "(9, 3009)\n",
      "(9, 8266)\n"
     ]
    }
   ],
   "source": [
    "print(up.shape)\n",
    "print(dn.shape)\n",
    "print(trk_mat.shape)"
   ]
  },
  {
   "cell_type": "code",
   "execution_count": 397,
   "metadata": {},
   "outputs": [
    {
     "data": {
      "text/plain": [
       "array([1, 0, 1, ..., 0, 0, 0])"
      ]
     },
     "execution_count": 397,
     "metadata": {},
     "output_type": "execute_result"
    }
   ],
   "source": [
    "1-boolind"
   ]
  },
  {
   "cell_type": "code",
   "execution_count": 398,
   "metadata": {},
   "outputs": [
    {
     "data": {
      "text/plain": [
       "array([False,  True, False, ...,  True,  True,  True])"
      ]
     },
     "execution_count": 398,
     "metadata": {},
     "output_type": "execute_result"
    }
   ],
   "source": [
    "boolind"
   ]
  },
  {
   "cell_type": "code",
   "execution_count": null,
   "metadata": {
    "scrolled": true
   },
   "outputs": [],
   "source": []
  },
  {
   "cell_type": "code",
   "execution_count": 408,
   "metadata": {},
   "outputs": [
    {
     "data": {
      "text/plain": [
       "(-7740.3, -6193.7, -442.35, 357.35)"
      ]
     },
     "execution_count": 408,
     "metadata": {},
     "output_type": "execute_result"
    },
    {
     "data": {
      "image/png": "[encoded data removed]",
      "text/plain": [
       "<Figure size 432x288 with 1 Axes>"
      ]
     },
     "metadata": {
      "needs_background": "light"
     },
     "output_type": "display_data"
    }
   ],
   "source": [
    "for d in out_out:\n",
    "    d = d.astype(np.int32)\n",
    "    #print(d)\n",
    "    random.seed( d[4] )\n",
    "    R = (random.random())  # same random number as before\n",
    "    G = (random.random())  # same random number as before\n",
    "    B = (random.random()) # same random number as before\n",
    "    plot([d[0],d[2],d[2],d[0],d[0]],[d[1],d[1],d[3],d[3],d[1]],'-',c=[R,G,B])\n",
    "plt.axis('equal')\n",
    "#plt.xlim(x0,x1)\n",
    "#plt.ylim(y0,y1)"
   ]
  },
  {
   "cell_type": "code",
   "execution_count": null,
   "metadata": {},
   "outputs": [],
   "source": [
    "\n",
    "#plt.xlim(x0,x1)\n",
    "#plt.ylim(y0,y1)\n",
    "for d in in_results:\n",
    "    d = d.astype(np.int32)\n",
    "    #print(d)\n",
    "    if d[0] > x0 and d[0] < x1:\n",
    "        if d[1] > y0 and d[1] < y1:\n",
    "            plot([d[0],d[2],d[2],d[0],d[0]],[d[1],d[1],d[3],d[3],d[1]],'r-')\n",
    "plt.axis('equal')"
   ]
  },
  {
   "cell_type": "code",
   "execution_count": 177,
   "metadata": {},
   "outputs": [
    {
     "ename": "ValueError",
     "evalue": "Unrecognized character 0 in format string",
     "output_type": "error",
     "traceback": [
      "\u001b[0;31m---------------------------------------------------------------------------\u001b[0m",
      "\u001b[0;31mValueError\u001b[0m                                Traceback (most recent call last)",
      "\u001b[0;32m<ipython-input-177-92f845d16406>\u001b[0m in \u001b[0;36m<module>\u001b[0;34m\u001b[0m\n\u001b[1;32m      4\u001b[0m     \u001b[0;31m#if d[0] > x0 and d[0] < x1:\u001b[0m\u001b[0;34m\u001b[0m\u001b[0;34m\u001b[0m\u001b[0m\n\u001b[1;32m      5\u001b[0m     \u001b[0;31m#    if d[1] > y0 and d[1] < y1:\u001b[0m\u001b[0;34m\u001b[0m\u001b[0;34m\u001b[0m\u001b[0m\n\u001b[0;32m----> 6\u001b[0;31m     \u001b[0mplot\u001b[0m\u001b[0;34m(\u001b[0m\u001b[0;34m[\u001b[0m\u001b[0md\u001b[0m\u001b[0;34m[\u001b[0m\u001b[0;36m0\u001b[0m\u001b[0;34m]\u001b[0m\u001b[0;34m,\u001b[0m\u001b[0md\u001b[0m\u001b[0;34m[\u001b[0m\u001b[0;36m2\u001b[0m\u001b[0;34m]\u001b[0m\u001b[0;34m,\u001b[0m\u001b[0md\u001b[0m\u001b[0;34m[\u001b[0m\u001b[0;36m2\u001b[0m\u001b[0;34m]\u001b[0m\u001b[0;34m,\u001b[0m\u001b[0md\u001b[0m\u001b[0;34m[\u001b[0m\u001b[0;36m0\u001b[0m\u001b[0;34m]\u001b[0m\u001b[0;34m,\u001b[0m\u001b[0md\u001b[0m\u001b[0;34m[\u001b[0m\u001b[0;36m0\u001b[0m\u001b[0;34m]\u001b[0m\u001b[0;34m]\u001b[0m\u001b[0;34m,\u001b[0m\u001b[0;34m[\u001b[0m\u001b[0md\u001b[0m\u001b[0;34m[\u001b[0m\u001b[0;36m1\u001b[0m\u001b[0;34m]\u001b[0m\u001b[0;34m,\u001b[0m\u001b[0md\u001b[0m\u001b[0;34m[\u001b[0m\u001b[0;36m1\u001b[0m\u001b[0;34m]\u001b[0m\u001b[0;34m,\u001b[0m\u001b[0md\u001b[0m\u001b[0;34m[\u001b[0m\u001b[0;36m3\u001b[0m\u001b[0;34m]\u001b[0m\u001b[0;34m,\u001b[0m\u001b[0md\u001b[0m\u001b[0;34m[\u001b[0m\u001b[0;36m3\u001b[0m\u001b[0;34m]\u001b[0m\u001b[0;34m,\u001b[0m\u001b[0md\u001b[0m\u001b[0;34m[\u001b[0m\u001b[0;36m1\u001b[0m\u001b[0;34m]\u001b[0m\u001b[0;34m]\u001b[0m\u001b[0;34m,\u001b[0m\u001b[0;34m'0'\u001b[0m\u001b[0;34m)\u001b[0m\u001b[0;34m\u001b[0m\u001b[0m\n\u001b[0m",
      "\u001b[0;32m/opt/local/Library/Frameworks/Python.framework/Versions/3.5/lib/python3.5/site-packages/matplotlib/pyplot.py\u001b[0m in \u001b[0;36mplot\u001b[0;34m(scalex, scaley, data, *args, **kwargs)\u001b[0m\n\u001b[1;32m   2811\u001b[0m     return gca().plot(\n\u001b[1;32m   2812\u001b[0m         *args, scalex=scalex, scaley=scaley, **({\"data\": data} if data\n\u001b[0;32m-> 2813\u001b[0;31m         is not None else {}), **kwargs)\n\u001b[0m\u001b[1;32m   2814\u001b[0m \u001b[0;34m\u001b[0m\u001b[0m\n\u001b[1;32m   2815\u001b[0m \u001b[0;34m\u001b[0m\u001b[0m\n",
      "\u001b[0;32m/opt/local/Library/Frameworks/Python.framework/Versions/3.5/lib/python3.5/site-packages/matplotlib/__init__.py\u001b[0m in \u001b[0;36minner\u001b[0;34m(ax, data, *args, **kwargs)\u001b[0m\n\u001b[1;32m   1808\u001b[0m                         \u001b[0;34m\"the Matplotlib list!)\"\u001b[0m \u001b[0;34m%\u001b[0m \u001b[0;34m(\u001b[0m\u001b[0mlabel_namer\u001b[0m\u001b[0;34m,\u001b[0m \u001b[0mfunc\u001b[0m\u001b[0;34m.\u001b[0m\u001b[0m__name__\u001b[0m\u001b[0;34m)\u001b[0m\u001b[0;34m,\u001b[0m\u001b[0;34m\u001b[0m\u001b[0m\n\u001b[1;32m   1809\u001b[0m                         RuntimeWarning, stacklevel=2)\n\u001b[0;32m-> 1810\u001b[0;31m             \u001b[0;32mreturn\u001b[0m \u001b[0mfunc\u001b[0m\u001b[0;34m(\u001b[0m\u001b[0max\u001b[0m\u001b[0;34m,\u001b[0m \u001b[0;34m*\u001b[0m\u001b[0margs\u001b[0m\u001b[0;34m,\u001b[0m \u001b[0;34m**\u001b[0m\u001b[0mkwargs\u001b[0m\u001b[0;34m)\u001b[0m\u001b[0;34m\u001b[0m\u001b[0m\n\u001b[0m\u001b[1;32m   1811\u001b[0m \u001b[0;34m\u001b[0m\u001b[0m\n\u001b[1;32m   1812\u001b[0m         inner.__doc__ = _add_data_doc(inner.__doc__,\n",
      "\u001b[0;32m/opt/local/Library/Frameworks/Python.framework/Versions/3.5/lib/python3.5/site-packages/matplotlib/axes/_axes.py\u001b[0m in \u001b[0;36mplot\u001b[0;34m(self, scalex, scaley, *args, **kwargs)\u001b[0m\n\u001b[1;32m   1609\u001b[0m         \u001b[0mkwargs\u001b[0m \u001b[0;34m=\u001b[0m \u001b[0mcbook\u001b[0m\u001b[0;34m.\u001b[0m\u001b[0mnormalize_kwargs\u001b[0m\u001b[0;34m(\u001b[0m\u001b[0mkwargs\u001b[0m\u001b[0;34m,\u001b[0m \u001b[0mmlines\u001b[0m\u001b[0;34m.\u001b[0m\u001b[0mLine2D\u001b[0m\u001b[0;34m.\u001b[0m\u001b[0m_alias_map\u001b[0m\u001b[0;34m)\u001b[0m\u001b[0;34m\u001b[0m\u001b[0m\n\u001b[1;32m   1610\u001b[0m \u001b[0;34m\u001b[0m\u001b[0m\n\u001b[0;32m-> 1611\u001b[0;31m         \u001b[0;32mfor\u001b[0m \u001b[0mline\u001b[0m \u001b[0;32min\u001b[0m \u001b[0mself\u001b[0m\u001b[0;34m.\u001b[0m\u001b[0m_get_lines\u001b[0m\u001b[0;34m(\u001b[0m\u001b[0;34m*\u001b[0m\u001b[0margs\u001b[0m\u001b[0;34m,\u001b[0m \u001b[0;34m**\u001b[0m\u001b[0mkwargs\u001b[0m\u001b[0;34m)\u001b[0m\u001b[0;34m:\u001b[0m\u001b[0;34m\u001b[0m\u001b[0m\n\u001b[0m\u001b[1;32m   1612\u001b[0m             \u001b[0mself\u001b[0m\u001b[0;34m.\u001b[0m\u001b[0madd_line\u001b[0m\u001b[0;34m(\u001b[0m\u001b[0mline\u001b[0m\u001b[0;34m)\u001b[0m\u001b[0;34m\u001b[0m\u001b[0m\n\u001b[1;32m   1613\u001b[0m             \u001b[0mlines\u001b[0m\u001b[0;34m.\u001b[0m\u001b[0mappend\u001b[0m\u001b[0;34m(\u001b[0m\u001b[0mline\u001b[0m\u001b[0;34m)\u001b[0m\u001b[0;34m\u001b[0m\u001b[0m\n",
      "\u001b[0;32m/opt/local/Library/Frameworks/Python.framework/Versions/3.5/lib/python3.5/site-packages/matplotlib/axes/_base.py\u001b[0m in \u001b[0;36m_grab_next_args\u001b[0;34m(self, *args, **kwargs)\u001b[0m\n\u001b[1;32m    391\u001b[0m                 \u001b[0mthis\u001b[0m \u001b[0;34m+=\u001b[0m \u001b[0margs\u001b[0m\u001b[0;34m[\u001b[0m\u001b[0;36m0\u001b[0m\u001b[0;34m]\u001b[0m\u001b[0;34m,\u001b[0m\u001b[0;34m\u001b[0m\u001b[0m\n\u001b[1;32m    392\u001b[0m                 \u001b[0margs\u001b[0m \u001b[0;34m=\u001b[0m \u001b[0margs\u001b[0m\u001b[0;34m[\u001b[0m\u001b[0;36m1\u001b[0m\u001b[0;34m:\u001b[0m\u001b[0;34m]\u001b[0m\u001b[0;34m\u001b[0m\u001b[0m\n\u001b[0;32m--> 393\u001b[0;31m             \u001b[0;32myield\u001b[0m \u001b[0;32mfrom\u001b[0m \u001b[0mself\u001b[0m\u001b[0;34m.\u001b[0m\u001b[0m_plot_args\u001b[0m\u001b[0;34m(\u001b[0m\u001b[0mthis\u001b[0m\u001b[0;34m,\u001b[0m \u001b[0mkwargs\u001b[0m\u001b[0;34m)\u001b[0m\u001b[0;34m\u001b[0m\u001b[0m\n\u001b[0m\u001b[1;32m    394\u001b[0m \u001b[0;34m\u001b[0m\u001b[0m\n\u001b[1;32m    395\u001b[0m \u001b[0;34m\u001b[0m\u001b[0m\n",
      "\u001b[0;32m/opt/local/Library/Frameworks/Python.framework/Versions/3.5/lib/python3.5/site-packages/matplotlib/axes/_base.py\u001b[0m in \u001b[0;36m_plot_args\u001b[0;34m(self, tup, kwargs)\u001b[0m\n\u001b[1;32m    340\u001b[0m         \u001b[0mret\u001b[0m \u001b[0;34m=\u001b[0m \u001b[0;34m[\u001b[0m\u001b[0;34m]\u001b[0m\u001b[0;34m\u001b[0m\u001b[0m\n\u001b[1;32m    341\u001b[0m         \u001b[0;32mif\u001b[0m \u001b[0mlen\u001b[0m\u001b[0;34m(\u001b[0m\u001b[0mtup\u001b[0m\u001b[0;34m)\u001b[0m \u001b[0;34m>\u001b[0m \u001b[0;36m1\u001b[0m \u001b[0;32mand\u001b[0m \u001b[0misinstance\u001b[0m\u001b[0;34m(\u001b[0m\u001b[0mtup\u001b[0m\u001b[0;34m[\u001b[0m\u001b[0;34m-\u001b[0m\u001b[0;36m1\u001b[0m\u001b[0;34m]\u001b[0m\u001b[0;34m,\u001b[0m \u001b[0mstr\u001b[0m\u001b[0;34m)\u001b[0m\u001b[0;34m:\u001b[0m\u001b[0;34m\u001b[0m\u001b[0m\n\u001b[0;32m--> 342\u001b[0;31m             \u001b[0mlinestyle\u001b[0m\u001b[0;34m,\u001b[0m \u001b[0mmarker\u001b[0m\u001b[0;34m,\u001b[0m \u001b[0mcolor\u001b[0m \u001b[0;34m=\u001b[0m \u001b[0m_process_plot_format\u001b[0m\u001b[0;34m(\u001b[0m\u001b[0mtup\u001b[0m\u001b[0;34m[\u001b[0m\u001b[0;34m-\u001b[0m\u001b[0;36m1\u001b[0m\u001b[0;34m]\u001b[0m\u001b[0;34m)\u001b[0m\u001b[0;34m\u001b[0m\u001b[0m\n\u001b[0m\u001b[1;32m    343\u001b[0m             \u001b[0mtup\u001b[0m \u001b[0;34m=\u001b[0m \u001b[0mtup\u001b[0m\u001b[0;34m[\u001b[0m\u001b[0;34m:\u001b[0m\u001b[0;34m-\u001b[0m\u001b[0;36m1\u001b[0m\u001b[0;34m]\u001b[0m\u001b[0;34m\u001b[0m\u001b[0m\n\u001b[1;32m    344\u001b[0m         \u001b[0;32melif\u001b[0m \u001b[0mlen\u001b[0m\u001b[0;34m(\u001b[0m\u001b[0mtup\u001b[0m\u001b[0;34m)\u001b[0m \u001b[0;34m==\u001b[0m \u001b[0;36m3\u001b[0m\u001b[0;34m:\u001b[0m\u001b[0;34m\u001b[0m\u001b[0m\n",
      "\u001b[0;32m/opt/local/Library/Frameworks/Python.framework/Versions/3.5/lib/python3.5/site-packages/matplotlib/axes/_base.py\u001b[0m in \u001b[0;36m_process_plot_format\u001b[0;34m(fmt)\u001b[0m\n\u001b[1;32m    116\u001b[0m         \u001b[0;32melse\u001b[0m\u001b[0;34m:\u001b[0m\u001b[0;34m\u001b[0m\u001b[0m\n\u001b[1;32m    117\u001b[0m             raise ValueError(\n\u001b[0;32m--> 118\u001b[0;31m                 'Unrecognized character %c in format string' % c)\n\u001b[0m\u001b[1;32m    119\u001b[0m         \u001b[0mi\u001b[0m \u001b[0;34m+=\u001b[0m \u001b[0;36m1\u001b[0m\u001b[0;34m\u001b[0m\u001b[0m\n\u001b[1;32m    120\u001b[0m \u001b[0;34m\u001b[0m\u001b[0m\n",
      "\u001b[0;31mValueError\u001b[0m: Unrecognized character 0 in format string"
     ]
    },
    {
     "data": {
      "image/png": "[encoded data removed]",
      "text/plain": [
       "<Figure size 432x288 with 1 Axes>"
      ]
     },
     "metadata": {
      "needs_background": "light"
     },
     "output_type": "display_data"
    }
   ],
   "source": [
    "for d in out_results:\n",
    "    d = d.astype(np.int32)\n",
    "    #print(d)\n",
    "    #if d[0] > x0 and d[0] < x1:\n",
    "    #    if d[1] > y0 and d[1] < y1:\n",
    "    plot([d[0],d[2],d[2],d[0],d[0]],[d[1],d[1],d[3],d[3],d[1]],'0')\n"
   ]
  },
  {
   "cell_type": "code",
   "execution_count": null,
   "metadata": {},
   "outputs": [],
   "source": [
    "\n",
    "\n",
    "xa0 = 5\n",
    "xa1 = 7\n",
    "ya0 = 6\n",
    "ya1 = 8\n",
    "\n",
    "xb0 = 6\n",
    "xb1 = 7\n",
    "yb0 = 6\n",
    "yb1 = 8\n",
    "plot([xa0,xa1,xa1,xa0,xa0],[ya0,ya0,ya1,ya1,ya0],'r-')\n",
    "plot([xb0,xb1,xb1,xb0,xb0],[yb0,yb0,yb1,yb1,yb0],'b-')\n",
    "GT = [xa0,ya0,xa1,ya1]\n",
    "test = [xb0,yb0,xb1,yb1]\n",
    "print(overlap(test,GT))"
   ]
  },
  {
   "cell_type": "code",
   "execution_count": null,
   "metadata": {},
   "outputs": [],
   "source": [
    "#Visualise avialable regions.\n",
    "plot(trk_mat[0,:],trk_mat[1,:],'o')"
   ]
  },
  {
   "cell_type": "code",
   "execution_count": null,
   "metadata": {},
   "outputs": [],
   "source": []
  },
  {
   "cell_type": "code",
   "execution_count": null,
   "metadata": {},
   "outputs": [],
   "source": []
  },
  {
   "cell_type": "code",
   "execution_count": null,
   "metadata": {},
   "outputs": [],
   "source": [
    "import cv2\n",
    "img = cv2.imread('/Users/dwaithe/Desktop/out.tif')\n",
    "x0 = -3266.7\n",
    "x1 = -1866.7\n",
    "y0 = 1291.7\n",
    "y1 = 2291.7\n",
    "\n",
    "figsize(12,12)\n",
    "#imshow(img)\n",
    "minx = np.min(trk_mat[0,:])\n",
    "miny = np.min(trk_mat[1,:])\n",
    "for d in out_results:\n",
    "    d = d.astype(np.int32)\n",
    "    #print(d)\n",
    "    \n",
    "    if d[0] > x0 and d[0] < x1:\n",
    "        if d[1] > y0 and d[1] < y1:\n",
    "            d[0] = (d[0]-minx)/0.26\n",
    "            d[2] = (d[2]-minx)/0.26\n",
    "            d[1] = (d[1]-miny)/0.26\n",
    "            d[3] = (d[3]-miny)/0.26\n",
    "            random.seed( d[4] )\n",
    "            R = (random.random())  # same random number as before\n",
    "            G = (random.random())  # same random number as before\n",
    "            B = (random.random()) # same random number as before\n",
    "            plot([d[0],d[2],d[2],d[0],d[0]],[d[1],d[1],d[3],d[3],d[1]],c=[R,G,B])\n",
    "plt.axis('equal')\n",
    "#plt.xlim(0,1000)\n",
    "#plt.ylim(2300,3800)"
   ]
  },
  {
   "cell_type": "code",
   "execution_count": null,
   "metadata": {
    "scrolled": false
   },
   "outputs": [],
   "source": []
  },
  {
   "cell_type": "code",
   "execution_count": null,
   "metadata": {},
   "outputs": [],
   "source": [
    "coord"
   ]
  },
  {
   "cell_type": "code",
   "execution_count": null,
   "metadata": {},
   "outputs": [],
   "source": [
    "#Now we search raw entries.\n",
    "#ent = random.choice(list(coord.keys()))\n",
    "ent = random.choice(list(coord.keys()))\n",
    "sent = coord[ent]\n",
    "out_list = []\n",
    "#Go through list of coordinates:\n",
    "for c in range(0,trk_mat.shape[1]):\n",
    "    #Extract track\n",
    "    trk = trk_mat[:,c]\n",
    "    #Corresponding entries in grid.\n",
    "    for se in sent:\n",
    "        x,y = se.split('_')\n",
    "        #print(x,y)\n",
    "        if float(x) == trk[0] and float(y) == trk[1]:\n",
    "            out_list.append(c)\n",
    "\n",
    "            \n",
    "for ent in coord:\n",
    "    #print(coord[ent].__len__())\n",
    "    x,y = ent.split('_')\n",
    "    plot(float(x),float(y),'ro')\n",
    "plt.axis('equal')\n",
    "\n",
    "\n",
    "for se in sent:\n",
    "    #print( sent)\n",
    "    x0,y0 = se.split('_')\n",
    "    \n",
    "\n",
    "    plot(x0,y0,'bo')\n",
    "trks = trk_mat[:,np.array(out_list)]\n",
    "\n",
    "for c in range(0,trks.shape[1]):\n",
    "    trk = trks[:,c]\n",
    "    a = trk[3]+trk[0]\n",
    "    b = trk[3]+trk[5]+trk[0]\n",
    "    c = trk[4]+trk[1]\n",
    "    d = trk[4]+trk[6]+trk[1]\n",
    "    plot([a,b,b,a,a],[c,c,d,d,c],'g-')"
   ]
  },
  {
   "cell_type": "code",
   "execution_count": null,
   "metadata": {},
   "outputs": [],
   "source": [
    "trks = trk_mat#[:,np.array(out_list)]\n",
    "\n",
    "for c in range(0,trks.shape[1]):\n",
    "    trk = trks[:,c]\n",
    "    a = trk[3]+trk[0]\n",
    "    b = trk[3]+trk[5]+trk[0]\n",
    "    c = trk[4]+trk[1]\n",
    "    d = trk[4]+trk[6]+trk[1]\n",
    "    plot([a,b,b,a,a],[c,c,d,d,c])\n",
    "    "
   ]
  },
  {
   "cell_type": "code",
   "execution_count": null,
   "metadata": {},
   "outputs": [],
   "source": [
    "#Select random option\n",
    "ent = random.choice(list(coord.keys()))\n",
    "sent = coord[ent]\n",
    "\n",
    "##                        |\n",
    "##PLOT all the data here.\\/\n",
    "##\n",
    "a = trk_mat[0,:]+trk_mat[3,:]\n",
    "b = trk_mat[0,:]+trk_mat[3,:]+trk_mat[5,:]\n",
    "c = trk_mat[1,:]+trk_mat[4,:]\n",
    "d = trk_mat[1,:]+trk_mat[4,:]+trk_mat[6,:]\n",
    "#plot([a,b,b,a,a], [c,c,d,d,c],'r-');\n",
    "plt.axis('equal')\n",
    "##                       /\\\n",
    "##PLOT all the data here.|\n",
    "##\n",
    "\n",
    "\n",
    "\n",
    "##                         |\n",
    "##PLOT the locations here.\\/\n",
    "##\n",
    "for ent in coord:\n",
    "    #print(coord[ent].__len__())\n",
    "    x,y = ent.split('_')\n",
    "    #plot(float(x),float(y),'ro')\n",
    "plt.axis('equal')\n",
    "for se in sent:\n",
    "    #print( sent)\n",
    "    x0,y0 = se.split('_')\n",
    "    #plot(x0,y0,'bo')\n",
    "##                        /\\\n",
    "##PLOT the locations here.|\n",
    "##\n",
    "    \n",
    "##                              |\n",
    "##Find the nearby regions here.\\/\n",
    "##    \n",
    "out_list = []\n",
    "#Go through list of coordinates:\n",
    "for c in range(0,trk_mat.shape[1]):\n",
    "    #Extract track\n",
    "    trk = trk_mat[:,c]\n",
    "    #Corresponding entries in grid.\n",
    "    for se in sent:\n",
    "        x,y = se.split('_')\n",
    "        #print(x,y)\n",
    "        if float(x) == trk[0] and float(y) == trk[1]:\n",
    "            out_list.append(c)\n",
    "trks = trk_mat[:,np.array(out_list)]  \n",
    "##                              |\n",
    "##Plot the nearby regions here.\\/\n",
    "##   \n",
    "for c in range(0,trks.shape[1]):\n",
    "    trk = trks[:,c]\n",
    "    a = trk[3]+trk[0]\n",
    "    b = trk[3]+trk[5]+trk[0]\n",
    "    c = trk[4]+trk[1]\n",
    "    d = trk[4]+trk[6]+trk[1]\n",
    "    #plot([a,b,b,a,a],[c,c,d,d,c],'g-',alpha=0.5)"
   ]
  },
  {
   "cell_type": "code",
   "execution_count": null,
   "metadata": {},
   "outputs": [],
   "source": []
  }
 ],
 "metadata": {
  "kernelspec": {
   "display_name": "Python 3",
   "language": "python",
   "name": "python3"
  },
  "language_info": {
   "codemirror_mode": {
    "name": "ipython",
    "version": 3
   },
   "file_extension": ".py",
   "mimetype": "text/x-python",
   "name": "python",
   "nbconvert_exporter": "python",
   "pygments_lexer": "ipython3",
   "version": "3.5.6"
  }
 },
 "nbformat": 4,
 "nbformat_minor": 2
}
