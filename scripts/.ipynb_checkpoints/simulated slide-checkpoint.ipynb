{
 "cells": [
  {
   "cell_type": "code",
   "execution_count": 2,
   "metadata": {
    "collapsed": false
   },
   "outputs": [
    {
     "name": "stdout",
     "output_type": "stream",
     "text": [
      "Populating the interactive namespace from numpy and matplotlib\n"
     ]
    }
   ],
   "source": [
    "%pylab inline\n",
    "from scipy.ndimage.filters import gaussian_filter"
   ]
  },
  {
   "cell_type": "markdown",
   "metadata": {},
   "source": [
    "## Converts Faster rcnn output to sort tracking format"
   ]
  },
  {
   "cell_type": "code",
   "execution_count": 25,
   "metadata": {
    "collapsed": false
   },
   "outputs": [],
   "source": [
    "dirt = \"/Users/dwaithe/Documents/collaborators/WaitheD/Faster-RCNN-TensorFlow-Python3.5/data/demo/movie_frames/\"\n",
    "data2 = open(\"/Users/dwaithe/Documents/collaborators/WaitheD/tracking/sort/data/cells/data_cells.txt\",'w')\n",
    "for i in range(0,274):\n",
    "    im_name ='C2-Faster-RCNN-TensorFlow-Python3.5-master-NUCLEOPHORE.ome%04d.txt'%i\n",
    "    data1 = open(dirt+im_name,'r')\n",
    "    while 1:\n",
    "        line = data1.readline().split(\"\\t\")\n",
    "        if not line or line ==['']:\n",
    "            break\n",
    "        stringout = str(i+1)+\",-1,\"+str(line[2])+\",\"+str(line[3])+\",\"\n",
    "        stringout += str(float(line[4])-float(line[2]))+\",\"+str(float(line[5].strip(\"\\n\"))-float(line[3]))\n",
    "        stringout +=\",\"+str(line[1])+\",\"+\"-1\"+\",\"+\"-1\"+\",\"+\"-1\\n\"\n",
    "        data2.write(stringout)\n",
    "    \n",
    "            "
   ]
  },
  {
   "cell_type": "code",
   "execution_count": 24,
   "metadata": {
    "collapsed": false
   },
   "outputs": [
    {
     "data": {
      "text/plain": [
       "['']"
      ]
     },
     "execution_count": 24,
     "metadata": {},
     "output_type": "execute_result"
    }
   ],
   "source": [
    "line"
   ]
  },
  {
   "cell_type": "code",
   "execution_count": 5,
   "metadata": {
    "collapsed": false
   },
   "outputs": [],
   "source": [
    "#Create playground\n",
    "height = 2048#2048\n",
    "width = 4096#8192\n",
    "depth = 32#128\n",
    "playground = np.zeros((height,width,depth))\n",
    "coords = (np.array([height,width,depth])*np.random.random([80,3])).astype(np.int32)"
   ]
  },
  {
   "cell_type": "code",
   "execution_count": 6,
   "metadata": {
    "collapsed": false
   },
   "outputs": [
    {
     "name": "stdout",
     "output_type": "stream",
     "text": [
      "1788 1939 3757 3908 0 32\n",
      "859 1010 2606 2757 0 32\n",
      "1569 1720 1154 1305 0 32\n",
      "877 1028 1403 1554 0 32\n",
      "316 467 1095 1246 1 32\n",
      "1004 1155 2144 2295 0 32\n",
      "1544 1695 1800 1951 0 32\n",
      "261 412 569 720 0 32\n",
      "1075 1226 1826 1977 0 32\n",
      "827 978 2110 2261 0 32\n",
      "1591 1742 2781 2932 0 32\n",
      "1561 1712 174 325 1 32\n",
      "931 1082 1829 1980 0 32\n",
      "630 781 751 902 0 32\n",
      "1685 1836 2688 2839 0 31\n",
      "874 1025 2127 2278 0 32\n",
      "103 254 0 77 0 32\n",
      "1438 1589 600 751 0 32\n",
      "159 310 3039 3190 0 32\n",
      "986 1137 2658 2809 0 32\n",
      "1688 1839 1716 1867 0 32\n",
      "1340 1491 2212 2363 0 32\n",
      "789 940 1555 1706 0 32\n",
      "755 906 1560 1711 0 32\n",
      "1932 2048 2542 2693 0 32\n",
      "1415 1566 3965 4096 0 32\n",
      "1566 1717 1532 1683 0 32\n",
      "1008 1159 1232 1383 0 32\n",
      "1409 1560 409 560 0 32\n",
      "920 1071 2642 2793 0 32\n",
      "1353 1504 2662 2813 0 31\n",
      "439 590 589 740 0 32\n",
      "418 569 756 907 0 32\n",
      "28 179 3240 3391 0 32\n",
      "173 324 383 534 0 32\n",
      "1424 1575 1207 1358 0 32\n",
      "1702 1853 2453 2604 0 32\n",
      "1436 1587 3381 3532 0 32\n",
      "0 130 1415 1566 0 32\n",
      "1256 1407 3044 3195 0 32\n",
      "1700 1851 1069 1220 0 32\n",
      "909 1060 875 1026 0 32\n",
      "602 753 3043 3194 0 32\n",
      "652 803 2557 2708 0 31\n",
      "1489 1640 275 426 0 32\n",
      "381 532 2735 2886 0 32\n",
      "1096 1247 785 936 0 32\n",
      "1348 1499 3325 3476 0 32\n",
      "1953 2048 3190 3341 0 32\n",
      "1599 1750 1595 1746 0 32\n",
      "325 476 2306 2457 0 32\n",
      "0 110 941 1092 0 31\n",
      "815 966 3921 4072 0 32\n",
      "18 169 896 1047 0 32\n",
      "265 416 1965 2116 0 32\n",
      "596 747 3586 3737 0 32\n",
      "880 1031 3274 3425 0 32\n",
      "779 930 369 520 0 32\n",
      "1439 1590 1743 1894 0 32\n",
      "1642 1793 2173 2324 0 32\n",
      "1440 1591 215 366 0 32\n",
      "67 218 334 485 0 32\n",
      "777 928 3637 3788 0 32\n",
      "209 360 2057 2208 0 32\n",
      "1784 1935 2508 2659 0 32\n",
      "469 620 1312 1463 0 32\n",
      "1070 1221 2430 2581 0 32\n",
      "975 1126 666 817 0 32\n",
      "1913 2048 549 700 0 32\n",
      "576 727 47 198 0 32\n",
      "1960 2048 1738 1889 0 32\n",
      "490 641 977 1128 0 32\n",
      "0 122 3393 3544 0 32\n",
      "1142 1293 3433 3584 0 32\n",
      "476 627 230 381 0 32\n",
      "1421 1572 3007 3158 0 32\n",
      "1574 1725 1721 1872 0 32\n",
      "1024 1175 1531 1682 1 32\n",
      "767 918 939 1090 0 32\n",
      "1128 1279 2970 3121 0 32\n"
     ]
    }
   ],
   "source": [
    "#Randomly populate\n",
    "\n",
    "#playground[coords[:,0],coords[:,1],coords[:,2]] = 1.0\n",
    "sigx = sigy = 25.0\n",
    "sigz = 10.0\n",
    "kernel = np.zeros((int(sigy*6)+1,int(sigx*6)+1,int(sigz*6.)+1))\n",
    "xcen = ycen = int(sigy*6)//2+1\n",
    "zcen = int(sigz*6)//2+1\n",
    "kernel[ycen,xcen,zcen] = 1.0\n",
    "kernel = gaussian_filter(kernel, [sigy,sigx,sigz])\n",
    "ker_wid = kernel.shape[0]//2\n",
    "ker_hei = kernel.shape[1]//2\n",
    "ker_sli = kernel.shape[2]//2\n",
    "\n",
    "for [y,x,z] in coords:\n",
    "    ylow = y-ker_hei\n",
    "    yklow = 0\n",
    "    yhei = y+ker_hei+1\n",
    "    ykhei = kernel.shape[0]\n",
    "    xlow = x-ker_wid\n",
    "    xklow = 0\n",
    "    xhei = x+ker_wid+1\n",
    "    xkhei = kernel.shape[1]\n",
    "    zlow = z-ker_sli\n",
    "    zklow = 0\n",
    "    zhei = z+ker_sli+1\n",
    "    zkhei = kernel.shape[2]\n",
    "    \n",
    "    if ylow < 0:\n",
    "        yklow = abs(0-ylow)\n",
    "        ylow = 0\n",
    "        \n",
    "    if yhei > height:\n",
    "        ykhei = ykhei -(yhei - height)\n",
    "        yhei = height\n",
    "        \n",
    "    if xlow < 0:\n",
    "        xklow = abs(0-xlow)\n",
    "        xlow = 0\n",
    "        \n",
    "    if xhei > width:\n",
    "        xkhei = xkhei -(xhei - width)\n",
    "        xhei = width\n",
    "        \n",
    "    if zlow <0:\n",
    "        zklow = abs(0-zlow)\n",
    "        zlow = 0\n",
    "        \n",
    "    if zhei > depth:\n",
    "        zkhei = zkhei -(zhei - depth)\n",
    "        zhei = depth\n",
    "    print    ylow,yhei,xlow,xhei,zlow,zhei\n",
    "        \n",
    "    playground[ylow:yhei,xlow:xhei,zlow:zhei] += kernel[yklow:ykhei,xklow:xkhei,zklow:zkhei] "
   ]
  },
  {
   "cell_type": "code",
   "execution_count": 7,
   "metadata": {
    "collapsed": false
   },
   "outputs": [],
   "source": [
    "path = (np.array([height-512,width-512,depth])*np.random.random([9,3])).astype(np.int32)+[256,256,0]\n",
    "path_coord_z = []\n",
    "path_coord_y = [] \n",
    "path_coord_x = []\n",
    "steps = 40\n",
    "for idx in range(0,path.shape[0]-1):\n",
    "    yp0,xp0,zp0 = path[idx]\n",
    "    yp1,xp1,zp1 = path[idx+1]\n",
    "    path_coord_y.extend(np.linspace(yp0,yp1,steps))\n",
    "    path_coord_x.extend(np.linspace(xp0,xp1,steps))\n",
    "    path_coord_z.extend(np.linspace(zp0,zp1,steps))\n",
    "    \n"
   ]
  },
  {
   "cell_type": "code",
   "execution_count": 9,
   "metadata": {
    "collapsed": false
   },
   "outputs": [
    {
     "data": {
      "text/plain": [
       "(-0.5, 4095.5, 2047.5, -0.5)"
      ]
     },
     "execution_count": 9,
     "metadata": {},
     "output_type": "execute_result"
    },
    {
     "data": {
      "image/png": "[encoded data removed]",
      "text/plain": [
       "<matplotlib.figure.Figure at 0x1156d1150>"
      ]
     },
     "metadata": {},
     "output_type": "display_data"
    }
   ],
   "source": [
    "import scipy.misc\n",
    "output_dir = \"/Users/dwaithe/Documents/collaborators/WaitheD/micro_vision/tracking/sort/data/gauss_cells/\"\n",
    "plot(path_coord_x,path_coord_y,'o')\n",
    "c = 0\n",
    "for xp0,yp0,zp0 in zip(path_coord_x,path_coord_y,path_coord_z):\n",
    "    n = str(c)\n",
    "    plot([xp0-256,xp0+256,xp0+256,xp0-256,xp0-256],[yp0-256,yp0-256,yp0+256,yp0+256,yp0-256],'r-')\n",
    "    out_img = playground[int(yp0-256):int(yp0+256),int(xp0-256):int(xp0+256),int(zp0)]\n",
    "    scipy.misc.imsave(output_dir+'outfile'+n.zfill(3)+'.jpg', out_img)\n",
    "    c+=1\n",
    "imshow(np.max(playground[:,:,:],2))\n",
    "plt.axis('equal')"
   ]
  },
  {
   "cell_type": "code",
   "execution_count": 157,
   "metadata": {
    "collapsed": false
   },
   "outputs": [
    {
     "data": {
      "text/plain": [
       "array([[ 591,  847,  287],\n",
       "       [1165, 2122,  281],\n",
       "       [1306, 3092,  269],\n",
       "       [ 517, 3365,  265],\n",
       "       [1767, 1397,  258],\n",
       "       [1132,  965,  274],\n",
       "       [ 752,  297,  281],\n",
       "       [ 960, 3746,  275],\n",
       "       [ 580, 2699,  269]], dtype=int32)"
      ]
     },
     "execution_count": 157,
     "metadata": {},
     "output_type": "execute_result"
    }
   ],
   "source": [
    "path"
   ]
  },
  {
   "cell_type": "code",
   "execution_count": null,
   "metadata": {
    "collapsed": true
   },
   "outputs": [],
   "source": []
  }
 ],
 "metadata": {
  "kernelspec": {
   "display_name": "Python 2",
   "language": "python",
   "name": "python2"
  },
  "language_info": {
   "codemirror_mode": {
    "name": "ipython",
    "version": 2
   },
   "file_extension": ".py",
   "mimetype": "text/x-python",
   "name": "python",
   "nbconvert_exporter": "python",
   "pygments_lexer": "ipython2",
   "version": "2.7.13"
  }
 },
 "nbformat": 4,
 "nbformat_minor": 0
}
