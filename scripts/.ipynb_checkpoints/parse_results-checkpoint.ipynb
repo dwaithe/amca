{
 "cells": [
  {
   "cell_type": "markdown",
   "metadata": {},
   "source": [
    "### Load in dataset using Pandas\n",
    "Brief preview is shown just below."
   ]
  },
  {
   "cell_type": "code",
   "execution_count": 3,
   "metadata": {},
   "outputs": [
    {
     "data": {
      "text/html": [
       "<div>\n",
       "<style scoped>\n",
       "    .dataframe tbody tr th:only-of-type {\n",
       "        vertical-align: middle;\n",
       "    }\n",
       "\n",
       "    .dataframe tbody tr th {\n",
       "        vertical-align: top;\n",
       "    }\n",
       "\n",
       "    .dataframe thead th {\n",
       "        text-align: right;\n",
       "    }\n",
       "</style>\n",
       "<table border=\"1\" class=\"dataframe\">\n",
       "  <thead>\n",
       "    <tr style=\"text-align: right;\">\n",
       "      <th></th>\n",
       "      <th>date</th>\n",
       "      <th>condition</th>\n",
       "      <th>cfg_file</th>\n",
       "      <th>iter</th>\n",
       "      <th>mAP</th>\n",
       "    </tr>\n",
       "  </thead>\n",
       "  <tbody>\n",
       "    <tr>\n",
       "      <th>0</th>\n",
       "      <td>2020-01-15 20:30:14.881589</td>\n",
       "      <td>cell - neuroblastoma phalloidin</td>\n",
       "      <td>yolov3_dk3AB-classes-1-flip</td>\n",
       "      <td>1000</td>\n",
       "      <td>0.773878</td>\n",
       "    </tr>\n",
       "    <tr>\n",
       "      <th>1</th>\n",
       "      <td>2020-01-15 20:30:14.882708</td>\n",
       "      <td>cell - neuroblastoma phalloidin</td>\n",
       "      <td>yolov3_dk3AB-classes-1-flip</td>\n",
       "      <td>2000</td>\n",
       "      <td>0.883327</td>\n",
       "    </tr>\n",
       "    <tr>\n",
       "      <th>2</th>\n",
       "      <td>2020-01-15 20:30:14.883600</td>\n",
       "      <td>cell - neuroblastoma phalloidin</td>\n",
       "      <td>yolov3_dk3AB-classes-1-flip</td>\n",
       "      <td>3000</td>\n",
       "      <td>0.895333</td>\n",
       "    </tr>\n",
       "    <tr>\n",
       "      <th>3</th>\n",
       "      <td>2020-01-15 20:30:14.884602</td>\n",
       "      <td>cell - neuroblastoma phalloidin</td>\n",
       "      <td>yolov3_dk3AB-classes-1-flip</td>\n",
       "      <td>4000</td>\n",
       "      <td>0.891218</td>\n",
       "    </tr>\n",
       "    <tr>\n",
       "      <th>4</th>\n",
       "      <td>2020-01-15 20:30:14.885373</td>\n",
       "      <td>cell - neuroblastoma phalloidin</td>\n",
       "      <td>yolov3_dk3AB-classes-1-flip</td>\n",
       "      <td>5000</td>\n",
       "      <td>0.889563</td>\n",
       "    </tr>\n",
       "  </tbody>\n",
       "</table>\n",
       "</div>"
      ],
      "text/plain": [
       "                         date                        condition  \\\n",
       "0  2020-01-15 20:30:14.881589  cell - neuroblastoma phalloidin   \n",
       "1  2020-01-15 20:30:14.882708  cell - neuroblastoma phalloidin   \n",
       "2  2020-01-15 20:30:14.883600  cell - neuroblastoma phalloidin   \n",
       "3  2020-01-15 20:30:14.884602  cell - neuroblastoma phalloidin   \n",
       "4  2020-01-15 20:30:14.885373  cell - neuroblastoma phalloidin   \n",
       "\n",
       "                      cfg_file  iter       mAP  \n",
       "0  yolov3_dk3AB-classes-1-flip  1000  0.773878  \n",
       "1  yolov3_dk3AB-classes-1-flip  2000  0.883327  \n",
       "2  yolov3_dk3AB-classes-1-flip  3000  0.895333  \n",
       "3  yolov3_dk3AB-classes-1-flip  4000  0.891218  \n",
       "4  yolov3_dk3AB-classes-1-flip  5000  0.889563  "
      ]
     },
     "execution_count": 3,
     "metadata": {},
     "output_type": "execute_result"
    }
   ],
   "source": [
    "import pandas as pd\n",
    "import numpy as np\n",
    "import pyperclip\n",
    "\n",
    "spam = pyperclip.paste()\n",
    "path = '../../results/'\n",
    "#data = pd.read_csv('2020_01_12/global_dk3AB_yolov2_testlog.txt', header = None,sep=\"\\t\")\n",
    "data = pd.read_csv(path+'2020_02_26/global_dk3AB_yolov3_testlog.txt', header = None,sep=\"\\t\")\n",
    "data = data.drop(columns=[2,4,6])\n",
    "\n",
    "data.rename(columns={0:'date',1:'condition',3:'cfg_file',5:'iter',7:'mAP'},inplace=True)\n",
    "data.condition = data.condition.apply(lambda x: x.split('/')[-1].split('_')[0])\n",
    "data.head()"
   ]
  },
  {
   "cell_type": "markdown",
   "metadata": {},
   "source": [
    "### Display attributes\n",
    "Display available configuration and conditions."
   ]
  },
  {
   "cell_type": "code",
   "execution_count": 4,
   "metadata": {},
   "outputs": [
    {
     "name": "stdout",
     "output_type": "stream",
     "text": [
      "cfgs yolov3_dk3AB-classes-1-flip\n",
      "cfgs yolov3_dk3AB-classes-6-flip\n",
      "cfgs yolov3_dk3AB-classes-1-no-flip\n",
      "cfgs yolov3_dk3AB-classes-6-no-flip\n",
      "cond cell - neuroblastoma phalloidin\n",
      "cond cell - erythroblast dapi\n",
      "cond cell - c127 dapi\n",
      "cond cell - eukaryote dapi\n",
      "cond cell - fibroblast nucleopore\n",
      "cond cell - hek peroxisome all\n"
     ]
    }
   ],
   "source": [
    "for i in data.cfg_file.unique():\n",
    "    print('cfgs',i)\n",
    "\n",
    "for i in data.condition.unique():\n",
    "    print('cond',i)"
   ]
  },
  {
   "cell_type": "markdown",
   "metadata": {},
   "source": [
    "### Return your specific configuration and cell-type.\n",
    "This is useful for returning the data from a specific experiment and dataset. Automatically copied to clipboard."
   ]
  },
  {
   "cell_type": "code",
   "execution_count": 7,
   "metadata": {},
   "outputs": [
    {
     "name": "stdout",
     "output_type": "stream",
     "text": [
      "cfg_file: yolov3_dk3AB-classes-1-flip\n",
      "condition: cell - fibroblast nucleopore\n",
      "--------------------\n",
      "1000 0.9267297431849602\t0.9180663231891932\t0.8693514832240028\n",
      "2000 0.9500138104695368\t0.9691030376028641\t0.9820229690637748\n",
      "3000 0.974925245917976\t0.8950420534627186\t0.9463862181441408\n",
      "4000 0.9366525698690208\t0.9828888476503316\t0.9381690785923942\n",
      "5000 0.9407783620648182\t0.9448791520034814\t0.9677963465481999\n",
      "6000 0.9623590615368882\t0.9785685342037808\t0.9751824176211342\n",
      "7000 0.9412579167050884\t0.8906218803144406\t0.9479520926869748\n",
      "8000 0.9185513147448704\t0.9759466406749292\t0.9666509965565944\n",
      "9000 0.8588042659163461\t0.9710811577031009\t0.9136101700726628\n",
      "10000 0.9904811370212252\t0.9693921479269132\t0.9653900929362736\n"
     ]
    }
   ],
   "source": [
    "cfg_file = 'yolov3_dk3AB-classes-1-flip'\n",
    "condition = 'cell - fibroblast nucleopore'\n",
    "srkey = data.cfg_file == cfg_file\n",
    "data0 = data[srkey]\n",
    "data1 = data0[data0.condition == condition]\n",
    "print('cfg_file:',cfg_file)\n",
    "print('condition:',condition)\n",
    "print('--------------------')\n",
    "iters = data1['iter'].unique()\n",
    "copy_str = \"\"\n",
    "for iteri in iters:\n",
    "    ob = \"\\t\".join(list(data1[data1.iter == iteri]['mAP'].astype(np.str)))\n",
    "    copy_str +=ob+\"\\n\"\n",
    "    print(iteri,ob)\n",
    "pyperclip.copy(copy_str)"
   ]
  },
  {
   "cell_type": "markdown",
   "metadata": {},
   "source": [
    "### Return your specific configuration and multiple cell-types.\n",
    "Return multiple conditions in order. Data gets copied to Clipboard"
   ]
  },
  {
   "cell_type": "code",
   "execution_count": 9,
   "metadata": {},
   "outputs": [
    {
     "name": "stdout",
     "output_type": "stream",
     "text": [
      "cfg_file: yolov3_dk3AB-classes-1-flip\n",
      "conditions: ['cell - erythroblast dapi', 'cell - fibroblast nucleopore', 'cell - c127 dapi', 'cell - neuroblastoma phalloidin', 'cell - eukaryote dapi', 'cell - hek peroxisome all']\n",
      "--------------------\n",
      "1000 0.8866645253697458\t0.9029106412928845\t0.8961557787827164\t0.9267297431849602\t0.9180663231891932\t0.8693514832240028\t0.9757687941699776\t0.9675404195811748\t0.9636246671669612\t0.7738779081233961\t0.7867871404930364\t0.8199488553434404\t0.981588546185697\t0.9871058014851952\t0.9871999822327244\t0.5720082552784829\t0.543245419927713\t0.6683304801499856\n",
      "2000 0.9342633979021568\t0.9237026034264378\t0.9490135137696474\t0.9500138104695368\t0.9691030376028641\t0.9820229690637748\t0.9935207796037347\t0.9942494483733256\t0.9914315581472016\t0.8833266701722376\t0.8907895879308227\t0.8946240245469177\t0.9877488546778452\t0.9921017474319418\t0.9901860638864076\t0.6985358783536539\t0.7056104202509742\t0.6959538980737698\n",
      "3000 0.9463853889181773\t0.9454347442143722\t0.9582834774000656\t0.974925245917976\t0.8950420534627186\t0.9463862181441408\t0.9938479097813224\t0.9932227196208516\t0.994315668190492\t0.8953332144483293\t0.8920929555100469\t0.8928641642763653\t0.9942821596481384\t0.9902651508110942\t0.9931131664211073\t0.5910066647263681\t0.7133964027541204\t0.6982434984240768\n",
      "4000 0.955265057549881\t0.9464604874734048\t0.9411696691639796\t0.9366525698690208\t0.9828888476503316\t0.9381690785923942\t0.9955274596722804\t0.9937526525138808\t0.9921589650546524\t0.8912184330689099\t0.9021194621786024\t0.902497701362066\t0.9947227332679864\t0.9952596170301664\t0.9883476430429434\t0.6310832948548106\t0.6618447745908426\t0.6933714737961086\n",
      "5000 0.9588067861778092\t0.9622076336026456\t0.9308675282163632\t0.9407783620648182\t0.9448791520034814\t0.9677963465481999\t0.9867493509467472\t0.9913851375576688\t0.9922633720373844\t0.8895634249404738\t0.8838948112320535\t0.8939777867761137\t0.9917345742408652\t0.9949699544746448\t0.9916948391364038\t0.6600051967852363\t0.623585109448624\t0.6723311844898203\n",
      "6000 0.9623274939774029\t0.9434188810547114\t0.9432475487356924\t0.9623590615368882\t0.9785685342037808\t0.9751824176211342\t0.9922819162247304\t0.9940335910697068\t0.9963162156727776\t0.8905927233643889\t0.8945935583322016\t0.8972235628225437\t0.9923519855795336\t0.974880826357882\t0.9892046150981834\t0.6328220991386305\t0.6793026544197647\t0.6496640713007624\n",
      "7000 0.9580649143662135\t0.9665097902185114\t0.9551005097554984\t0.9412579167050884\t0.8906218803144406\t0.9479520926869748\t0.9957680650402922\t0.9874204211860104\t0.9912200534446104\t0.9046083518358352\t0.8765867255000261\t0.8927134851932798\t0.9891232086624392\t0.9943687696534202\t0.9922317437946844\t0.6452154876741051\t0.6936814065189326\t0.6177086797621925\n",
      "8000 0.9509893527417108\t0.9669707566108936\t0.9539342300212512\t0.9185513147448704\t0.9759466406749292\t0.9666509965565944\t0.993413712947712\t0.9917612099421308\t0.9901438855772128\t0.8923495517169358\t0.8886272359972514\t0.8989457217328042\t0.9882236592013915\t0.9907193067666292\t0.9921281992658662\t0.6497270640354571\t0.6195866475322293\t0.6002346355542234\n",
      "9000 0.9606145803883634\t0.950389404654818\t0.9600333100609012\t0.8588042659163461\t0.9710811577031009\t0.9136101700726628\t0.9890253497359502\t0.993628546915286\t0.9872800797766964\t0.8991562663391076\t0.8971241878923897\t0.8862650206375974\t0.9970891215365\t0.9861072649523108\t0.9946387311210854\t0.5660716756391002\t0.5839043049571596\t0.6150993499154713\n",
      "10000 0.950097674273243\t0.9464015364988004\t0.9604653474789028\t0.9904811370212252\t0.9693921479269132\t0.9653900929362736\t0.995020607995817\t0.9945184284903634\t0.9930952402997504\t0.901226233964198\t0.8959389265682796\t0.8986794099498384\t0.9917139469806796\t0.9846615148800508\t0.9951122850817059\t0.6304552757333108\t0.6261836795011799\t0.6263826815677098\n"
     ]
    },
    {
     "name": "stderr",
     "output_type": "stream",
     "text": [
      "/Library/Frameworks/Python.framework/Versions/3.7/lib/python3.7/site-packages/pandas/core/generic.py:5208: SettingWithCopyWarning: \n",
      "A value is trying to be set on a copy of a slice from a DataFrame.\n",
      "Try using .loc[row_indexer,col_indexer] = value instead\n",
      "\n",
      "See the caveats in the documentation: http://pandas.pydata.org/pandas-docs/stable/user_guide/indexing.html#returning-a-view-versus-a-copy\n",
      "  self[name] = value\n"
     ]
    }
   ],
   "source": [
    "#Paste all the categories to the clipboard using pandas.\n",
    "srkey = data.cfg_file == cfg_file\n",
    "data2 = data[srkey]\n",
    "sorter = ['cell - erythroblast dapi',\n",
    "'cell - fibroblast nucleopore',\n",
    "'cell - c127 dapi',\n",
    "'cell - neuroblastoma phalloidin',\n",
    "'cell - eukaryote dapi',\n",
    "'cell - hek peroxisome all']\n",
    "\n",
    "data2.condition = data2.condition.astype('category').cat.set_categories(sorter, inplace=False)\n",
    "data2 = data2.sort_values([\"condition\",'iter']) \n",
    "print('cfg_file:',cfg_file)\n",
    "print('conditions:',sorter)\n",
    "print('--------------------')\n",
    "iters = data2['iter'].unique()\n",
    "copy_str = \"\"\n",
    "for iteri in iters:\n",
    "    ob = \"\\t\".join(list(data2[data2.iter == iteri]['mAP'].astype(np.str)))\n",
    "    copy_str +=ob+\"\\n\"\n",
    "    print(iteri,ob)\n",
    "pyperclip.copy(copy_str)"
   ]
  },
  {
   "cell_type": "code",
   "execution_count": null,
   "metadata": {},
   "outputs": [],
   "source": []
  },
  {
   "cell_type": "code",
   "execution_count": null,
   "metadata": {},
   "outputs": [],
   "source": []
  }
 ],
 "metadata": {
  "kernelspec": {
   "display_name": "Python 3",
   "language": "python",
   "name": "python3"
  },
  "language_info": {
   "codemirror_mode": {
    "name": "ipython",
    "version": 3
   },
   "file_extension": ".py",
   "mimetype": "text/x-python",
   "name": "python",
   "nbconvert_exporter": "python",
   "pygments_lexer": "ipython3",
   "version": "3.7.4"
  }
 },
 "nbformat": 4,
 "nbformat_minor": 4
}
